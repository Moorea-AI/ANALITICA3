{
  "nbformat": 4,
  "nbformat_minor": 0,
  "metadata": {
    "colab": {
      "provenance": [],
      "authorship_tag": "ABX9TyPvFCi7eEA88ZHbnH0k2WKg",
      "include_colab_link": true
    },
    "kernelspec": {
      "name": "python3",
      "display_name": "Python 3"
    },
    "language_info": {
      "name": "python"
    }
  },
  "cells": [
    {
      "cell_type": "markdown",
      "metadata": {
        "id": "view-in-github",
        "colab_type": "text"
      },
      "source": [
        "<a href=\"https://colab.research.google.com/github/Moorea-AI/ANALITICA3/blob/main/d_modelos2.ipynb\" target=\"_parent\"><img src=\"https://colab.research.google.com/assets/colab-badge.svg\" alt=\"Open In Colab\"/></a>"
      ]
    },
    {
      "cell_type": "code",
      "source": [
        "################################################################\n",
        "#               PRIMER TRABAJO PARA LA MATERIA:                #\n",
        "#                 APLICACIONES DE LA ANALITICA                 #\n",
        "#                  MÓDULO DE RECURSOS HUMANOS                  #\n",
        "#                              POR:                            #\n",
        "#                                                              #\n",
        "#                    AURA LUZ MORENO - MOOREA                  #\n",
        "#                       ALEJANDRA AGUIRRE                      #\n",
        "#                                                              #\n",
        "#                    UNIVERSIDAD DE ANTIOQUIA                  #\n",
        "################################################################"
      ],
      "metadata": {
        "id": "wVGYC18KZp3w"
      },
      "execution_count": 56,
      "outputs": []
    },
    {
      "cell_type": "code",
      "source": [
        "###importar librerias\n",
        "import pandas as pd\n",
        "import numpy as np\n",
        "from itertools import product\n",
        "import matplotlib.pyplot as plt\n",
        "import seaborn as sns\n",
        "from plotly.subplots import make_subplots\n",
        "import plotly.express as px\n",
        "import plotly.graph_objects as go\n",
        "import plotly.figure_factory as ff\n",
        "from sklearn.metrics import mean_squared_error\n",
        "from sklearn.model_selection import train_test_split, GridSearchCV\n",
        "from sklearn.linear_model import LinearRegression\n",
        "import statsmodels.api as sm\n",
        "from sklearn.metrics import mean_squared_error,  mean_absolute_error, mean_absolute_percentage_error, r2_score, classification_report\n",
        "import math\n",
        "from sklearn.metrics import confusion_matrix, ConfusionMatrixDisplay\n",
        "from sklearn.metrics import accuracy_score\n",
        "import sys\n",
        "import sqlite3 as sql #### para bases de datos sql\n",
        "from sklearn.preprocessing import StandardScaler\n",
        "from sklearn import linear_model\n",
        "from sklearn import tree\n",
        "from sklearn.ensemble import RandomForestRegressor\n",
        "from sklearn.ensemble import GradientBoostingRegressor\n",
        "from sklearn.compose import ColumnTransformer\n",
        "from sklearn.linear_model import LogisticRegression\n",
        "from imblearn.combine import SMOTETomek\n",
        "from collections import Counter\n",
        "from sklearn.feature_selection import SelectFromModel\n",
        "from sklearn.linear_model import Lasso\n",
        "from sklearn.feature_selection import RFE\n",
        "from sklearn.metrics import accuracy_score\n",
        "from sklearn import metrics\n",
        "from sklearn.ensemble import GradientBoostingClassifier\n",
        "from sklearn.metrics import roc_curve, auc, roc_auc_score\n",
        "from sklearn.svm import SVC"
      ],
      "metadata": {
        "id": "k8_bX0o1gtD_"
      },
      "execution_count": 57,
      "outputs": []
    },
    {
      "cell_type": "markdown",
      "source": [
        "##Importación de datos"
      ],
      "metadata": {
        "id": "3X5U8Yu2PIh5"
      }
    },
    {
      "cell_type": "code",
      "source": [
        "sys.path.append('/content/drive/MyDrive')"
      ],
      "metadata": {
        "id": "QrX35xCEhPNB"
      },
      "execution_count": 58,
      "outputs": []
    },
    {
      "cell_type": "code",
      "source": [
        "#conectamos drive\n",
        "from google.colab import drive\n",
        "drive.mount('/content/drive')"
      ],
      "metadata": {
        "colab": {
          "base_uri": "https://localhost:8080/"
        },
        "id": "c_yd3pReguJl",
        "outputId": "5a9bfb46-f02d-4b3f-e70c-7de338429556"
      },
      "execution_count": 59,
      "outputs": [
        {
          "output_type": "stream",
          "name": "stdout",
          "text": [
            "Drive already mounted at /content/drive; to attempt to forcibly remount, call drive.mount(\"/content/drive\", force_remount=True).\n"
          ]
        }
      ]
    },
    {
      "cell_type": "code",
      "source": [
        "## conectamos las funciones\n",
        "import a_funciones as funciones"
      ],
      "metadata": {
        "id": "W4ut2VMlP2DA"
      },
      "execution_count": 60,
      "outputs": []
    },
    {
      "cell_type": "code",
      "source": [
        "### se genera la URL para conectarse a la base de datos\n",
        "BD = 'https://raw.githubusercontent.com/Moorea-AI/ANALITICA3/main/databases/BD.csv'"
      ],
      "metadata": {
        "id": "ToTsEkKHYibg"
      },
      "execution_count": 61,
      "outputs": []
    },
    {
      "cell_type": "code",
      "source": [
        "df=pd.read_csv(BD)"
      ],
      "metadata": {
        "id": "A1TI6tr3YuEv"
      },
      "execution_count": 62,
      "outputs": []
    },
    {
      "cell_type": "code",
      "source": [
        "df.info() ### mostramos para ver cuales variables son categoricas"
      ],
      "metadata": {
        "colab": {
          "base_uri": "https://localhost:8080/"
        },
        "id": "BlXLAS0AaTQf",
        "outputId": "3efe75e5-66c5-4f9a-9ec4-2b10c148e2e5"
      },
      "execution_count": 63,
      "outputs": [
        {
          "output_type": "stream",
          "name": "stdout",
          "text": [
            "<class 'pandas.core.frame.DataFrame'>\n",
            "RangeIndex: 35280 entries, 0 to 35279\n",
            "Data columns (total 31 columns):\n",
            " #   Column                   Non-Null Count  Dtype  \n",
            "---  ------                   --------------  -----  \n",
            " 0   employeeid               35280 non-null  int64  \n",
            " 1   environmentsatisfaction  35280 non-null  float64\n",
            " 2   jobsatisfaction          35280 non-null  float64\n",
            " 3   worklifebalance          35280 non-null  float64\n",
            " 4   datesurvey               35280 non-null  object \n",
            " 5   jobinvolvement           35280 non-null  int64  \n",
            " 6   performancerating        35280 non-null  int64  \n",
            " 7   surveydate               35280 non-null  object \n",
            " 8   attrition                35280 non-null  object \n",
            " 9   retirementdate           35280 non-null  object \n",
            " 10  retirementtype           35280 non-null  object \n",
            " 11  resignationreason        35280 non-null  object \n",
            " 12  age                      35280 non-null  int64  \n",
            " 13  businesstravel           35280 non-null  object \n",
            " 14  department               35280 non-null  object \n",
            " 15  distancefromhome         35280 non-null  int64  \n",
            " 16  education                35280 non-null  int64  \n",
            " 17  educationfield           35280 non-null  object \n",
            " 18  gender                   35280 non-null  object \n",
            " 19  joblevel                 35280 non-null  int64  \n",
            " 20  jobrole                  35280 non-null  object \n",
            " 21  maritalstatus            35280 non-null  object \n",
            " 22  monthlyincome            35280 non-null  int64  \n",
            " 23  numcompaniesworked       35280 non-null  float64\n",
            " 24  percentsalaryhike        35280 non-null  int64  \n",
            " 25  stockoptionlevel         35280 non-null  int64  \n",
            " 26  totalworkingyears        35280 non-null  float64\n",
            " 27  trainingtimeslastyear    35280 non-null  int64  \n",
            " 28  yearsatcompany           35280 non-null  int64  \n",
            " 29  yearssincelastpromotion  35280 non-null  int64  \n",
            " 30  infodate                 35280 non-null  object \n",
            "dtypes: float64(5), int64(13), object(13)\n",
            "memory usage: 8.3+ MB\n"
          ]
        }
      ]
    },
    {
      "cell_type": "code",
      "source": [
        "## se eliminan algunas filas que no son necesarias para la implementación del modelo\n",
        "df= df.drop(['datesurvey', 'surveydate', 'infodate', 'employeeid', 'retirementdate', 'infodate','retirementdate','retirementtype'],  axis=1)"
      ],
      "metadata": {
        "id": "HJSzqqGc9GlY"
      },
      "execution_count": 64,
      "outputs": []
    },
    {
      "cell_type": "code",
      "source": [
        "##crreamos una lista con las variables categoricas\n",
        "list_dummies = ['resignationreason', 'businesstravel', 'department', 'educationfield', 'jobrole', 'maritalstatus']\n"
      ],
      "metadata": {
        "id": "b-SoBBMiY39X"
      },
      "execution_count": 65,
      "outputs": []
    },
    {
      "cell_type": "code",
      "source": [],
      "metadata": {
        "id": "I3c4wtyTFBDh"
      },
      "execution_count": 65,
      "outputs": []
    },
    {
      "cell_type": "code",
      "source": [
        "df_dummies=pd.get_dummies(df,columns=list_dummies)\n",
        "df_dummies.info()"
      ],
      "metadata": {
        "colab": {
          "base_uri": "https://localhost:8080/"
        },
        "id": "B-jU0SOjaShf",
        "outputId": "b0aa208b-457c-4db9-8123-a32ac4c54a76"
      },
      "execution_count": 66,
      "outputs": [
        {
          "output_type": "stream",
          "name": "stdout",
          "text": [
            "<class 'pandas.core.frame.DataFrame'>\n",
            "RangeIndex: 35280 entries, 0 to 35279\n",
            "Data columns (total 47 columns):\n",
            " #   Column                             Non-Null Count  Dtype  \n",
            "---  ------                             --------------  -----  \n",
            " 0   environmentsatisfaction            35280 non-null  float64\n",
            " 1   jobsatisfaction                    35280 non-null  float64\n",
            " 2   worklifebalance                    35280 non-null  float64\n",
            " 3   jobinvolvement                     35280 non-null  int64  \n",
            " 4   performancerating                  35280 non-null  int64  \n",
            " 5   attrition                          35280 non-null  object \n",
            " 6   age                                35280 non-null  int64  \n",
            " 7   distancefromhome                   35280 non-null  int64  \n",
            " 8   education                          35280 non-null  int64  \n",
            " 9   gender                             35280 non-null  object \n",
            " 10  joblevel                           35280 non-null  int64  \n",
            " 11  monthlyincome                      35280 non-null  int64  \n",
            " 12  numcompaniesworked                 35280 non-null  float64\n",
            " 13  percentsalaryhike                  35280 non-null  int64  \n",
            " 14  stockoptionlevel                   35280 non-null  int64  \n",
            " 15  totalworkingyears                  35280 non-null  float64\n",
            " 16  trainingtimeslastyear              35280 non-null  int64  \n",
            " 17  yearsatcompany                     35280 non-null  int64  \n",
            " 18  yearssincelastpromotion            35280 non-null  int64  \n",
            " 19  resignationreason_Activo           35280 non-null  uint8  \n",
            " 20  resignationreason_Others           35280 non-null  uint8  \n",
            " 21  resignationreason_Salary           35280 non-null  uint8  \n",
            " 22  resignationreason_Stress           35280 non-null  uint8  \n",
            " 23  businesstravel_Non-Travel          35280 non-null  uint8  \n",
            " 24  businesstravel_Travel_Frequently   35280 non-null  uint8  \n",
            " 25  businesstravel_Travel_Rarely       35280 non-null  uint8  \n",
            " 26  department_Human Resources         35280 non-null  uint8  \n",
            " 27  department_Research & Development  35280 non-null  uint8  \n",
            " 28  department_Sales                   35280 non-null  uint8  \n",
            " 29  educationfield_Human Resources     35280 non-null  uint8  \n",
            " 30  educationfield_Life Sciences       35280 non-null  uint8  \n",
            " 31  educationfield_Marketing           35280 non-null  uint8  \n",
            " 32  educationfield_Medical             35280 non-null  uint8  \n",
            " 33  educationfield_Other               35280 non-null  uint8  \n",
            " 34  educationfield_Technical Degree    35280 non-null  uint8  \n",
            " 35  jobrole_Healthcare Representative  35280 non-null  uint8  \n",
            " 36  jobrole_Human Resources            35280 non-null  uint8  \n",
            " 37  jobrole_Laboratory Technician      35280 non-null  uint8  \n",
            " 38  jobrole_Manager                    35280 non-null  uint8  \n",
            " 39  jobrole_Manufacturing Director     35280 non-null  uint8  \n",
            " 40  jobrole_Research Director          35280 non-null  uint8  \n",
            " 41  jobrole_Research Scientist         35280 non-null  uint8  \n",
            " 42  jobrole_Sales Executive            35280 non-null  uint8  \n",
            " 43  jobrole_Sales Representative       35280 non-null  uint8  \n",
            " 44  maritalstatus_Divorced             35280 non-null  uint8  \n",
            " 45  maritalstatus_Married              35280 non-null  uint8  \n",
            " 46  maritalstatus_Single               35280 non-null  uint8  \n",
            "dtypes: float64(5), int64(12), object(2), uint8(28)\n",
            "memory usage: 6.1+ MB\n"
          ]
        }
      ]
    },
    {
      "cell_type": "code",
      "source": [
        "print(df_dummies.attrition.unique())\n"
      ],
      "metadata": {
        "colab": {
          "base_uri": "https://localhost:8080/"
        },
        "id": "a2ag09ozRCHm",
        "outputId": "2b2e4d48-927c-4bdd-cdda-2ca0d0fa30eb"
      },
      "execution_count": 67,
      "outputs": [
        {
          "output_type": "stream",
          "name": "stdout",
          "text": [
            "['No' 'Yes']\n"
          ]
        }
      ]
    },
    {
      "cell_type": "code",
      "source": [
        "### debido a la alta correlación que se encontro en el análisis exploratorio se elimina las siguientes variables:\n",
        "df_d = df_dummies.drop(['age', 'yearsatcompany', 'yearssincelastpromotion', 'gender'],  axis=1)"
      ],
      "metadata": {
        "id": "jnsbVrep1JAR"
      },
      "execution_count": 68,
      "outputs": []
    },
    {
      "cell_type": "code",
      "source": [
        "###lista con variables numericas\n",
        "ce=[\"distancefromhome\",\"education\",\"joblevel\",\"monthlyincome\",\"percentsalaryhike\",\"stockoptionlevel\",\"jobinvolvement\"]\n"
      ],
      "metadata": {
        "id": "kcQmgBJG25jR"
      },
      "execution_count": 69,
      "outputs": []
    },
    {
      "cell_type": "code",
      "source": [
        "### creamos una función que permita normalizar la variable objetivo\n",
        "def cambiar_si_no_a_numeros(columna):\n",
        "    return columna.map({'Yes': 1, 'No': 0})\n",
        "\n",
        "# Supongamos que tienes un DataFrame llamado df y quieres cambiar los valores de la columna 'columna_si_no'\n",
        "df_d['attrition'] = cambiar_si_no_a_numeros(df_d['attrition'])"
      ],
      "metadata": {
        "id": "WOhC8amuwOXR"
      },
      "execution_count": 70,
      "outputs": []
    },
    {
      "cell_type": "code",
      "source": [
        "y=df_d[\"attrition\"]\n",
        "x=df_d.drop([\"attrition\"],axis=1)\n",
        "\n",
        "X_train, X_test, y_train, y_test = train_test_split(x, y, test_size=0.5)\n",
        "\n",
        "df_d[ce]=df_d[ce].astype(float)\n",
        "columnasfloat=list(df_d.select_dtypes(\"float64\").columns)\n",
        "pipeline=ColumnTransformer([(\"num\", StandardScaler(),columnasfloat)],remainder='passthrough')\n",
        "\n",
        "X_train_std = pipeline.fit_transform(X_train)\n",
        "X_test_std = pipeline.transform(X_test)"
      ],
      "metadata": {
        "id": "ezcqsigRut76"
      },
      "execution_count": 71,
      "outputs": []
    },
    {
      "cell_type": "markdown",
      "source": [
        "##Modelo base"
      ],
      "metadata": {
        "id": "WBsEE66s7UsN"
      }
    },
    {
      "cell_type": "markdown",
      "source": [
        "Selección de varianbles con el metódo Lasso"
      ],
      "metadata": {
        "id": "DtW_N69wtInJ"
      }
    },
    {
      "cell_type": "code",
      "source": [
        "sel_ = SelectFromModel(Lasso(alpha = 0.001, max_iter=10000), max_features=30) #entre mas aumente el parametro de serializacion, mas variables van atender a 0\n",
        "sel_.fit(X_train_std, y_train)\n",
        "print(sel_.estimator_.coef_)\n",
        "#Obtener variables seleccionadas\n",
        "X_new = sel_.get_support()#descarta los coeficientes mas cercanos a 0\n",
        "X_train_base1 = X_train_std[:,X_new]\n",
        "X_test_base1= X_test_std[:,X_new]\n",
        "X_train.iloc[:,X_new]"
      ],
      "metadata": {
        "colab": {
          "base_uri": "https://localhost:8080/",
          "height": 652
        },
        "id": "UEfkfhBptN1Y",
        "outputId": "c9db5b70-e916-4cb5-a49b-ecda38e09752"
      },
      "execution_count": 72,
      "outputs": [
        {
          "output_type": "stream",
          "name": "stdout",
          "text": [
            "[-6.35025642e-03 -3.79568427e-03 -7.22542414e-05  0.00000000e+00\n",
            " -7.87368964e-04 -0.00000000e+00 -3.44432662e-04 -3.28896487e-03\n",
            "  0.00000000e+00  2.34775861e-03 -1.54422303e-03 -7.59114638e-03\n",
            "  0.00000000e+00  0.00000000e+00 -9.64650511e-01  0.00000000e+00\n",
            "  0.00000000e+00  0.00000000e+00 -0.00000000e+00  8.82966584e-03\n",
            " -0.00000000e+00  0.00000000e+00 -0.00000000e+00 -0.00000000e+00\n",
            "  0.00000000e+00  0.00000000e+00  0.00000000e+00  0.00000000e+00\n",
            " -0.00000000e+00 -1.70926417e-03 -0.00000000e+00  0.00000000e+00\n",
            "  0.00000000e+00  0.00000000e+00 -0.00000000e+00  0.00000000e+00\n",
            "  0.00000000e+00 -1.22476341e-03  0.00000000e+00 -1.49953165e-04\n",
            " -0.00000000e+00  1.14888906e-02]\n"
          ]
        },
        {
          "output_type": "execute_result",
          "data": {
            "text/plain": [
              "       environmentsatisfaction  jobsatisfaction  worklifebalance  \\\n",
              "25433                      3.0              3.0              3.0   \n",
              "27370                      3.0              4.0              2.0   \n",
              "7827                       1.0              2.0              1.0   \n",
              "5540                       3.0              1.0              3.0   \n",
              "29427                      1.0              3.0              1.0   \n",
              "...                        ...              ...              ...   \n",
              "11536                      4.0              3.0              4.0   \n",
              "28050                      3.0              4.0              2.0   \n",
              "9665                       4.0              3.0              3.0   \n",
              "25250                      4.0              4.0              1.0   \n",
              "19101                      2.0              4.0              2.0   \n",
              "\n",
              "       performancerating  education  joblevel  numcompaniesworked  \\\n",
              "25433                  3          3         1                 7.0   \n",
              "27370                  3          4         3                 3.0   \n",
              "7827                   3          3         2                 5.0   \n",
              "5540                   3          3         1                 1.0   \n",
              "29427                  4          2         2                 2.0   \n",
              "...                  ...        ...       ...                 ...   \n",
              "11536                  4          2         4                 1.0   \n",
              "28050                  3          5         2                 5.0   \n",
              "9665                   3          2         1                 2.0   \n",
              "25250                  3          4         4                 0.0   \n",
              "19101                  3          5         5                 9.0   \n",
              "\n",
              "       percentsalaryhike  stockoptionlevel  resignationreason_Activo  \\\n",
              "25433                 11                 1                         1   \n",
              "27370                 11                 1                         1   \n",
              "7827                  11                 1                         0   \n",
              "5540                  18                 1                         1   \n",
              "29427                 20                 1                         0   \n",
              "...                  ...               ...                       ...   \n",
              "11536                 23                 0                         1   \n",
              "28050                 15                 1                         0   \n",
              "9665                  12                 1                         0   \n",
              "25250                 12                 0                         1   \n",
              "19101                 14                 1                         1   \n",
              "\n",
              "       businesstravel_Travel_Frequently  educationfield_Technical Degree  \\\n",
              "25433                                 0                                0   \n",
              "27370                                 0                                0   \n",
              "7827                                  0                                0   \n",
              "5540                                  0                                0   \n",
              "29427                                 0                                0   \n",
              "...                                 ...                              ...   \n",
              "11536                                 1                                0   \n",
              "28050                                 0                                0   \n",
              "9665                                  1                                0   \n",
              "25250                                 0                                0   \n",
              "19101                                 1                                0   \n",
              "\n",
              "       jobrole_Sales Executive  maritalstatus_Divorced  maritalstatus_Single  \n",
              "25433                        0                       0                     1  \n",
              "27370                        0                       0                     1  \n",
              "7827                         0                       0                     0  \n",
              "5540                         1                       1                     0  \n",
              "29427                        1                       0                     1  \n",
              "...                        ...                     ...                   ...  \n",
              "11536                        0                       1                     0  \n",
              "28050                        0                       1                     0  \n",
              "9665                         0                       0                     0  \n",
              "25250                        0                       0                     0  \n",
              "19101                        0                       1                     0  \n",
              "\n",
              "[17640 rows x 15 columns]"
            ],
            "text/html": [
              "\n",
              "  <div id=\"df-c9a10bf0-8382-470b-a0a7-f3806c9deed8\" class=\"colab-df-container\">\n",
              "    <div>\n",
              "<style scoped>\n",
              "    .dataframe tbody tr th:only-of-type {\n",
              "        vertical-align: middle;\n",
              "    }\n",
              "\n",
              "    .dataframe tbody tr th {\n",
              "        vertical-align: top;\n",
              "    }\n",
              "\n",
              "    .dataframe thead th {\n",
              "        text-align: right;\n",
              "    }\n",
              "</style>\n",
              "<table border=\"1\" class=\"dataframe\">\n",
              "  <thead>\n",
              "    <tr style=\"text-align: right;\">\n",
              "      <th></th>\n",
              "      <th>environmentsatisfaction</th>\n",
              "      <th>jobsatisfaction</th>\n",
              "      <th>worklifebalance</th>\n",
              "      <th>performancerating</th>\n",
              "      <th>education</th>\n",
              "      <th>joblevel</th>\n",
              "      <th>numcompaniesworked</th>\n",
              "      <th>percentsalaryhike</th>\n",
              "      <th>stockoptionlevel</th>\n",
              "      <th>resignationreason_Activo</th>\n",
              "      <th>businesstravel_Travel_Frequently</th>\n",
              "      <th>educationfield_Technical Degree</th>\n",
              "      <th>jobrole_Sales Executive</th>\n",
              "      <th>maritalstatus_Divorced</th>\n",
              "      <th>maritalstatus_Single</th>\n",
              "    </tr>\n",
              "  </thead>\n",
              "  <tbody>\n",
              "    <tr>\n",
              "      <th>25433</th>\n",
              "      <td>3.0</td>\n",
              "      <td>3.0</td>\n",
              "      <td>3.0</td>\n",
              "      <td>3</td>\n",
              "      <td>3</td>\n",
              "      <td>1</td>\n",
              "      <td>7.0</td>\n",
              "      <td>11</td>\n",
              "      <td>1</td>\n",
              "      <td>1</td>\n",
              "      <td>0</td>\n",
              "      <td>0</td>\n",
              "      <td>0</td>\n",
              "      <td>0</td>\n",
              "      <td>1</td>\n",
              "    </tr>\n",
              "    <tr>\n",
              "      <th>27370</th>\n",
              "      <td>3.0</td>\n",
              "      <td>4.0</td>\n",
              "      <td>2.0</td>\n",
              "      <td>3</td>\n",
              "      <td>4</td>\n",
              "      <td>3</td>\n",
              "      <td>3.0</td>\n",
              "      <td>11</td>\n",
              "      <td>1</td>\n",
              "      <td>1</td>\n",
              "      <td>0</td>\n",
              "      <td>0</td>\n",
              "      <td>0</td>\n",
              "      <td>0</td>\n",
              "      <td>1</td>\n",
              "    </tr>\n",
              "    <tr>\n",
              "      <th>7827</th>\n",
              "      <td>1.0</td>\n",
              "      <td>2.0</td>\n",
              "      <td>1.0</td>\n",
              "      <td>3</td>\n",
              "      <td>3</td>\n",
              "      <td>2</td>\n",
              "      <td>5.0</td>\n",
              "      <td>11</td>\n",
              "      <td>1</td>\n",
              "      <td>0</td>\n",
              "      <td>0</td>\n",
              "      <td>0</td>\n",
              "      <td>0</td>\n",
              "      <td>0</td>\n",
              "      <td>0</td>\n",
              "    </tr>\n",
              "    <tr>\n",
              "      <th>5540</th>\n",
              "      <td>3.0</td>\n",
              "      <td>1.0</td>\n",
              "      <td>3.0</td>\n",
              "      <td>3</td>\n",
              "      <td>3</td>\n",
              "      <td>1</td>\n",
              "      <td>1.0</td>\n",
              "      <td>18</td>\n",
              "      <td>1</td>\n",
              "      <td>1</td>\n",
              "      <td>0</td>\n",
              "      <td>0</td>\n",
              "      <td>1</td>\n",
              "      <td>1</td>\n",
              "      <td>0</td>\n",
              "    </tr>\n",
              "    <tr>\n",
              "      <th>29427</th>\n",
              "      <td>1.0</td>\n",
              "      <td>3.0</td>\n",
              "      <td>1.0</td>\n",
              "      <td>4</td>\n",
              "      <td>2</td>\n",
              "      <td>2</td>\n",
              "      <td>2.0</td>\n",
              "      <td>20</td>\n",
              "      <td>1</td>\n",
              "      <td>0</td>\n",
              "      <td>0</td>\n",
              "      <td>0</td>\n",
              "      <td>1</td>\n",
              "      <td>0</td>\n",
              "      <td>1</td>\n",
              "    </tr>\n",
              "    <tr>\n",
              "      <th>...</th>\n",
              "      <td>...</td>\n",
              "      <td>...</td>\n",
              "      <td>...</td>\n",
              "      <td>...</td>\n",
              "      <td>...</td>\n",
              "      <td>...</td>\n",
              "      <td>...</td>\n",
              "      <td>...</td>\n",
              "      <td>...</td>\n",
              "      <td>...</td>\n",
              "      <td>...</td>\n",
              "      <td>...</td>\n",
              "      <td>...</td>\n",
              "      <td>...</td>\n",
              "      <td>...</td>\n",
              "    </tr>\n",
              "    <tr>\n",
              "      <th>11536</th>\n",
              "      <td>4.0</td>\n",
              "      <td>3.0</td>\n",
              "      <td>4.0</td>\n",
              "      <td>4</td>\n",
              "      <td>2</td>\n",
              "      <td>4</td>\n",
              "      <td>1.0</td>\n",
              "      <td>23</td>\n",
              "      <td>0</td>\n",
              "      <td>1</td>\n",
              "      <td>1</td>\n",
              "      <td>0</td>\n",
              "      <td>0</td>\n",
              "      <td>1</td>\n",
              "      <td>0</td>\n",
              "    </tr>\n",
              "    <tr>\n",
              "      <th>28050</th>\n",
              "      <td>3.0</td>\n",
              "      <td>4.0</td>\n",
              "      <td>2.0</td>\n",
              "      <td>3</td>\n",
              "      <td>5</td>\n",
              "      <td>2</td>\n",
              "      <td>5.0</td>\n",
              "      <td>15</td>\n",
              "      <td>1</td>\n",
              "      <td>0</td>\n",
              "      <td>0</td>\n",
              "      <td>0</td>\n",
              "      <td>0</td>\n",
              "      <td>1</td>\n",
              "      <td>0</td>\n",
              "    </tr>\n",
              "    <tr>\n",
              "      <th>9665</th>\n",
              "      <td>4.0</td>\n",
              "      <td>3.0</td>\n",
              "      <td>3.0</td>\n",
              "      <td>3</td>\n",
              "      <td>2</td>\n",
              "      <td>1</td>\n",
              "      <td>2.0</td>\n",
              "      <td>12</td>\n",
              "      <td>1</td>\n",
              "      <td>0</td>\n",
              "      <td>1</td>\n",
              "      <td>0</td>\n",
              "      <td>0</td>\n",
              "      <td>0</td>\n",
              "      <td>0</td>\n",
              "    </tr>\n",
              "    <tr>\n",
              "      <th>25250</th>\n",
              "      <td>4.0</td>\n",
              "      <td>4.0</td>\n",
              "      <td>1.0</td>\n",
              "      <td>3</td>\n",
              "      <td>4</td>\n",
              "      <td>4</td>\n",
              "      <td>0.0</td>\n",
              "      <td>12</td>\n",
              "      <td>0</td>\n",
              "      <td>1</td>\n",
              "      <td>0</td>\n",
              "      <td>0</td>\n",
              "      <td>0</td>\n",
              "      <td>0</td>\n",
              "      <td>0</td>\n",
              "    </tr>\n",
              "    <tr>\n",
              "      <th>19101</th>\n",
              "      <td>2.0</td>\n",
              "      <td>4.0</td>\n",
              "      <td>2.0</td>\n",
              "      <td>3</td>\n",
              "      <td>5</td>\n",
              "      <td>5</td>\n",
              "      <td>9.0</td>\n",
              "      <td>14</td>\n",
              "      <td>1</td>\n",
              "      <td>1</td>\n",
              "      <td>1</td>\n",
              "      <td>0</td>\n",
              "      <td>0</td>\n",
              "      <td>1</td>\n",
              "      <td>0</td>\n",
              "    </tr>\n",
              "  </tbody>\n",
              "</table>\n",
              "<p>17640 rows × 15 columns</p>\n",
              "</div>\n",
              "    <div class=\"colab-df-buttons\">\n",
              "\n",
              "  <div class=\"colab-df-container\">\n",
              "    <button class=\"colab-df-convert\" onclick=\"convertToInteractive('df-c9a10bf0-8382-470b-a0a7-f3806c9deed8')\"\n",
              "            title=\"Convert this dataframe to an interactive table.\"\n",
              "            style=\"display:none;\">\n",
              "\n",
              "  <svg xmlns=\"http://www.w3.org/2000/svg\" height=\"24px\" viewBox=\"0 -960 960 960\">\n",
              "    <path d=\"M120-120v-720h720v720H120Zm60-500h600v-160H180v160Zm220 220h160v-160H400v160Zm0 220h160v-160H400v160ZM180-400h160v-160H180v160Zm440 0h160v-160H620v160ZM180-180h160v-160H180v160Zm440 0h160v-160H620v160Z\"/>\n",
              "  </svg>\n",
              "    </button>\n",
              "\n",
              "  <style>\n",
              "    .colab-df-container {\n",
              "      display:flex;\n",
              "      gap: 12px;\n",
              "    }\n",
              "\n",
              "    .colab-df-convert {\n",
              "      background-color: #E8F0FE;\n",
              "      border: none;\n",
              "      border-radius: 50%;\n",
              "      cursor: pointer;\n",
              "      display: none;\n",
              "      fill: #1967D2;\n",
              "      height: 32px;\n",
              "      padding: 0 0 0 0;\n",
              "      width: 32px;\n",
              "    }\n",
              "\n",
              "    .colab-df-convert:hover {\n",
              "      background-color: #E2EBFA;\n",
              "      box-shadow: 0px 1px 2px rgba(60, 64, 67, 0.3), 0px 1px 3px 1px rgba(60, 64, 67, 0.15);\n",
              "      fill: #174EA6;\n",
              "    }\n",
              "\n",
              "    .colab-df-buttons div {\n",
              "      margin-bottom: 4px;\n",
              "    }\n",
              "\n",
              "    [theme=dark] .colab-df-convert {\n",
              "      background-color: #3B4455;\n",
              "      fill: #D2E3FC;\n",
              "    }\n",
              "\n",
              "    [theme=dark] .colab-df-convert:hover {\n",
              "      background-color: #434B5C;\n",
              "      box-shadow: 0px 1px 3px 1px rgba(0, 0, 0, 0.15);\n",
              "      filter: drop-shadow(0px 1px 2px rgba(0, 0, 0, 0.3));\n",
              "      fill: #FFFFFF;\n",
              "    }\n",
              "  </style>\n",
              "\n",
              "    <script>\n",
              "      const buttonEl =\n",
              "        document.querySelector('#df-c9a10bf0-8382-470b-a0a7-f3806c9deed8 button.colab-df-convert');\n",
              "      buttonEl.style.display =\n",
              "        google.colab.kernel.accessAllowed ? 'block' : 'none';\n",
              "\n",
              "      async function convertToInteractive(key) {\n",
              "        const element = document.querySelector('#df-c9a10bf0-8382-470b-a0a7-f3806c9deed8');\n",
              "        const dataTable =\n",
              "          await google.colab.kernel.invokeFunction('convertToInteractive',\n",
              "                                                    [key], {});\n",
              "        if (!dataTable) return;\n",
              "\n",
              "        const docLinkHtml = 'Like what you see? Visit the ' +\n",
              "          '<a target=\"_blank\" href=https://colab.research.google.com/notebooks/data_table.ipynb>data table notebook</a>'\n",
              "          + ' to learn more about interactive tables.';\n",
              "        element.innerHTML = '';\n",
              "        dataTable['output_type'] = 'display_data';\n",
              "        await google.colab.output.renderOutput(dataTable, element);\n",
              "        const docLink = document.createElement('div');\n",
              "        docLink.innerHTML = docLinkHtml;\n",
              "        element.appendChild(docLink);\n",
              "      }\n",
              "    </script>\n",
              "  </div>\n",
              "\n",
              "\n",
              "<div id=\"df-3fdd631b-301c-481e-b8d1-66f6ee955331\">\n",
              "  <button class=\"colab-df-quickchart\" onclick=\"quickchart('df-3fdd631b-301c-481e-b8d1-66f6ee955331')\"\n",
              "            title=\"Suggest charts\"\n",
              "            style=\"display:none;\">\n",
              "\n",
              "<svg xmlns=\"http://www.w3.org/2000/svg\" height=\"24px\"viewBox=\"0 0 24 24\"\n",
              "     width=\"24px\">\n",
              "    <g>\n",
              "        <path d=\"M19 3H5c-1.1 0-2 .9-2 2v14c0 1.1.9 2 2 2h14c1.1 0 2-.9 2-2V5c0-1.1-.9-2-2-2zM9 17H7v-7h2v7zm4 0h-2V7h2v10zm4 0h-2v-4h2v4z\"/>\n",
              "    </g>\n",
              "</svg>\n",
              "  </button>\n",
              "\n",
              "<style>\n",
              "  .colab-df-quickchart {\n",
              "      --bg-color: #E8F0FE;\n",
              "      --fill-color: #1967D2;\n",
              "      --hover-bg-color: #E2EBFA;\n",
              "      --hover-fill-color: #174EA6;\n",
              "      --disabled-fill-color: #AAA;\n",
              "      --disabled-bg-color: #DDD;\n",
              "  }\n",
              "\n",
              "  [theme=dark] .colab-df-quickchart {\n",
              "      --bg-color: #3B4455;\n",
              "      --fill-color: #D2E3FC;\n",
              "      --hover-bg-color: #434B5C;\n",
              "      --hover-fill-color: #FFFFFF;\n",
              "      --disabled-bg-color: #3B4455;\n",
              "      --disabled-fill-color: #666;\n",
              "  }\n",
              "\n",
              "  .colab-df-quickchart {\n",
              "    background-color: var(--bg-color);\n",
              "    border: none;\n",
              "    border-radius: 50%;\n",
              "    cursor: pointer;\n",
              "    display: none;\n",
              "    fill: var(--fill-color);\n",
              "    height: 32px;\n",
              "    padding: 0;\n",
              "    width: 32px;\n",
              "  }\n",
              "\n",
              "  .colab-df-quickchart:hover {\n",
              "    background-color: var(--hover-bg-color);\n",
              "    box-shadow: 0 1px 2px rgba(60, 64, 67, 0.3), 0 1px 3px 1px rgba(60, 64, 67, 0.15);\n",
              "    fill: var(--button-hover-fill-color);\n",
              "  }\n",
              "\n",
              "  .colab-df-quickchart-complete:disabled,\n",
              "  .colab-df-quickchart-complete:disabled:hover {\n",
              "    background-color: var(--disabled-bg-color);\n",
              "    fill: var(--disabled-fill-color);\n",
              "    box-shadow: none;\n",
              "  }\n",
              "\n",
              "  .colab-df-spinner {\n",
              "    border: 2px solid var(--fill-color);\n",
              "    border-color: transparent;\n",
              "    border-bottom-color: var(--fill-color);\n",
              "    animation:\n",
              "      spin 1s steps(1) infinite;\n",
              "  }\n",
              "\n",
              "  @keyframes spin {\n",
              "    0% {\n",
              "      border-color: transparent;\n",
              "      border-bottom-color: var(--fill-color);\n",
              "      border-left-color: var(--fill-color);\n",
              "    }\n",
              "    20% {\n",
              "      border-color: transparent;\n",
              "      border-left-color: var(--fill-color);\n",
              "      border-top-color: var(--fill-color);\n",
              "    }\n",
              "    30% {\n",
              "      border-color: transparent;\n",
              "      border-left-color: var(--fill-color);\n",
              "      border-top-color: var(--fill-color);\n",
              "      border-right-color: var(--fill-color);\n",
              "    }\n",
              "    40% {\n",
              "      border-color: transparent;\n",
              "      border-right-color: var(--fill-color);\n",
              "      border-top-color: var(--fill-color);\n",
              "    }\n",
              "    60% {\n",
              "      border-color: transparent;\n",
              "      border-right-color: var(--fill-color);\n",
              "    }\n",
              "    80% {\n",
              "      border-color: transparent;\n",
              "      border-right-color: var(--fill-color);\n",
              "      border-bottom-color: var(--fill-color);\n",
              "    }\n",
              "    90% {\n",
              "      border-color: transparent;\n",
              "      border-bottom-color: var(--fill-color);\n",
              "    }\n",
              "  }\n",
              "</style>\n",
              "\n",
              "  <script>\n",
              "    async function quickchart(key) {\n",
              "      const quickchartButtonEl =\n",
              "        document.querySelector('#' + key + ' button');\n",
              "      quickchartButtonEl.disabled = true;  // To prevent multiple clicks.\n",
              "      quickchartButtonEl.classList.add('colab-df-spinner');\n",
              "      try {\n",
              "        const charts = await google.colab.kernel.invokeFunction(\n",
              "            'suggestCharts', [key], {});\n",
              "      } catch (error) {\n",
              "        console.error('Error during call to suggestCharts:', error);\n",
              "      }\n",
              "      quickchartButtonEl.classList.remove('colab-df-spinner');\n",
              "      quickchartButtonEl.classList.add('colab-df-quickchart-complete');\n",
              "    }\n",
              "    (() => {\n",
              "      let quickchartButtonEl =\n",
              "        document.querySelector('#df-3fdd631b-301c-481e-b8d1-66f6ee955331 button');\n",
              "      quickchartButtonEl.style.display =\n",
              "        google.colab.kernel.accessAllowed ? 'block' : 'none';\n",
              "    })();\n",
              "  </script>\n",
              "</div>\n",
              "    </div>\n",
              "  </div>\n"
            ],
            "application/vnd.google.colaboratory.intrinsic+json": {
              "type": "dataframe",
              "summary": "{\n  \"name\": \"X_train\",\n  \"rows\": 17640,\n  \"fields\": [\n    {\n      \"column\": \"environmentsatisfaction\",\n      \"properties\": {\n        \"dtype\": \"number\",\n        \"std\": 1.0907392848776858,\n        \"min\": 1.0,\n        \"max\": 4.0,\n        \"num_unique_values\": 4,\n        \"samples\": [\n          1.0,\n          2.0,\n          3.0\n        ],\n        \"semantic_type\": \"\",\n        \"description\": \"\"\n      }\n    },\n    {\n      \"column\": \"jobsatisfaction\",\n      \"properties\": {\n        \"dtype\": \"number\",\n        \"std\": 1.0986542616144683,\n        \"min\": 1.0,\n        \"max\": 4.0,\n        \"num_unique_values\": 4,\n        \"samples\": [\n          4.0,\n          1.0,\n          3.0\n        ],\n        \"semantic_type\": \"\",\n        \"description\": \"\"\n      }\n    },\n    {\n      \"column\": \"worklifebalance\",\n      \"properties\": {\n        \"dtype\": \"number\",\n        \"std\": 0.7056897385872746,\n        \"min\": 1.0,\n        \"max\": 4.0,\n        \"num_unique_values\": 4,\n        \"samples\": [\n          2.0,\n          4.0,\n          3.0\n        ],\n        \"semantic_type\": \"\",\n        \"description\": \"\"\n      }\n    },\n    {\n      \"column\": \"performancerating\",\n      \"properties\": {\n        \"dtype\": \"number\",\n        \"std\": 0,\n        \"min\": 3,\n        \"max\": 4,\n        \"num_unique_values\": 2,\n        \"samples\": [\n          4,\n          3\n        ],\n        \"semantic_type\": \"\",\n        \"description\": \"\"\n      }\n    },\n    {\n      \"column\": \"education\",\n      \"properties\": {\n        \"dtype\": \"number\",\n        \"std\": 1,\n        \"min\": 1,\n        \"max\": 5,\n        \"num_unique_values\": 5,\n        \"samples\": [\n          4,\n          5\n        ],\n        \"semantic_type\": \"\",\n        \"description\": \"\"\n      }\n    },\n    {\n      \"column\": \"joblevel\",\n      \"properties\": {\n        \"dtype\": \"number\",\n        \"std\": 1,\n        \"min\": 1,\n        \"max\": 5,\n        \"num_unique_values\": 5,\n        \"samples\": [\n          3,\n          5\n        ],\n        \"semantic_type\": \"\",\n        \"description\": \"\"\n      }\n    },\n    {\n      \"column\": \"numcompaniesworked\",\n      \"properties\": {\n        \"dtype\": \"number\",\n        \"std\": 2.4848262750927006,\n        \"min\": 0.0,\n        \"max\": 9.0,\n        \"num_unique_values\": 10,\n        \"samples\": [\n          4.0,\n          3.0\n        ],\n        \"semantic_type\": \"\",\n        \"description\": \"\"\n      }\n    },\n    {\n      \"column\": \"percentsalaryhike\",\n      \"properties\": {\n        \"dtype\": \"number\",\n        \"std\": 3,\n        \"min\": 11,\n        \"max\": 25,\n        \"num_unique_values\": 15,\n        \"samples\": [\n          17,\n          16\n        ],\n        \"semantic_type\": \"\",\n        \"description\": \"\"\n      }\n    },\n    {\n      \"column\": \"stockoptionlevel\",\n      \"properties\": {\n        \"dtype\": \"number\",\n        \"std\": 0,\n        \"min\": 0,\n        \"max\": 3,\n        \"num_unique_values\": 4,\n        \"samples\": [\n          0,\n          2\n        ],\n        \"semantic_type\": \"\",\n        \"description\": \"\"\n      }\n    },\n    {\n      \"column\": \"resignationreason_Activo\",\n      \"properties\": {\n        \"dtype\": \"uint8\",\n        \"num_unique_values\": 2,\n        \"samples\": [\n          0,\n          1\n        ],\n        \"semantic_type\": \"\",\n        \"description\": \"\"\n      }\n    },\n    {\n      \"column\": \"businesstravel_Travel_Frequently\",\n      \"properties\": {\n        \"dtype\": \"uint8\",\n        \"num_unique_values\": 2,\n        \"samples\": [\n          1,\n          0\n        ],\n        \"semantic_type\": \"\",\n        \"description\": \"\"\n      }\n    },\n    {\n      \"column\": \"educationfield_Technical Degree\",\n      \"properties\": {\n        \"dtype\": \"uint8\",\n        \"num_unique_values\": 2,\n        \"samples\": [\n          1,\n          0\n        ],\n        \"semantic_type\": \"\",\n        \"description\": \"\"\n      }\n    },\n    {\n      \"column\": \"jobrole_Sales Executive\",\n      \"properties\": {\n        \"dtype\": \"uint8\",\n        \"num_unique_values\": 2,\n        \"samples\": [\n          1,\n          0\n        ],\n        \"semantic_type\": \"\",\n        \"description\": \"\"\n      }\n    },\n    {\n      \"column\": \"maritalstatus_Divorced\",\n      \"properties\": {\n        \"dtype\": \"uint8\",\n        \"num_unique_values\": 2,\n        \"samples\": [\n          1,\n          0\n        ],\n        \"semantic_type\": \"\",\n        \"description\": \"\"\n      }\n    },\n    {\n      \"column\": \"maritalstatus_Single\",\n      \"properties\": {\n        \"dtype\": \"uint8\",\n        \"num_unique_values\": 2,\n        \"samples\": [\n          0,\n          1\n        ],\n        \"semantic_type\": \"\",\n        \"description\": \"\"\n      }\n    }\n  ]\n}"
            }
          },
          "metadata": {},
          "execution_count": 72
        }
      ]
    },
    {
      "cell_type": "markdown",
      "source": [],
      "metadata": {
        "id": "vux9bEh50QhV"
      }
    },
    {
      "cell_type": "code",
      "source": [
        "\n",
        "X_train.iloc[:,X_new].columns"
      ],
      "metadata": {
        "colab": {
          "base_uri": "https://localhost:8080/"
        },
        "id": "dXW8pA37tZyf",
        "outputId": "5d571a6f-e60c-49e0-e7ca-43488d6b680f"
      },
      "execution_count": 73,
      "outputs": [
        {
          "output_type": "execute_result",
          "data": {
            "text/plain": [
              "Index(['environmentsatisfaction', 'jobsatisfaction', 'worklifebalance',\n",
              "       'performancerating', 'education', 'joblevel', 'numcompaniesworked',\n",
              "       'percentsalaryhike', 'stockoptionlevel', 'resignationreason_Activo',\n",
              "       'businesstravel_Travel_Frequently', 'educationfield_Technical Degree',\n",
              "       'jobrole_Sales Executive', 'maritalstatus_Divorced',\n",
              "       'maritalstatus_Single'],\n",
              "      dtype='object')"
            ]
          },
          "metadata": {},
          "execution_count": 73
        }
      ]
    },
    {
      "cell_type": "markdown",
      "source": [
        "##Metódo Wraper"
      ],
      "metadata": {
        "id": "RalY-oZAteFf"
      }
    },
    {
      "cell_type": "code",
      "source": [
        "# Función recursiva de selección de características\n",
        "def recursive_feature_selection(X,y,model,k):\n",
        "  rfe = RFE(model, n_features_to_select=k, step=1)\n",
        "  fit = rfe.fit(X, y)\n",
        "  X_new = fit.support_\n",
        "  print(\"Num Features: %s\" % (fit.n_features_))\n",
        "  print(\"Selected Features: %s\" % (fit.support_))\n",
        "  print(\"Feature Ranking: %s\" % (fit.ranking_))\n",
        "  return X_new"
      ],
      "metadata": {
        "id": "A7k4X2Kzto8U"
      },
      "execution_count": 74,
      "outputs": []
    },
    {
      "cell_type": "code",
      "source": [
        "# Establecer Estimador\n",
        "model = LogisticRegression(max_iter=10000)\n",
        "# Obtener columnas seleciconadas - (30 caracteristicas)\n",
        "X_new_class = recursive_feature_selection(X_train_std, y_train, model, 16)\n",
        "\n",
        "# Nuevo conjunto de datos\n",
        "X_train_base2 = X_train_std[:,X_new_class]\n",
        "X_test_base2= X_test_std[:,X_new_class]\n",
        "X_train.iloc[:,X_new_class]"
      ],
      "metadata": {
        "colab": {
          "base_uri": "https://localhost:8080/",
          "height": 583
        },
        "id": "S-AittQdtuBj",
        "outputId": "1b7e3587-07c4-43be-ce2d-d3b383c66f9e"
      },
      "execution_count": 75,
      "outputs": [
        {
          "output_type": "stream",
          "name": "stdout",
          "text": [
            "Num Features: 16\n",
            "Selected Features: [ True False False False False False False False False False False  True\n",
            " False False  True  True  True  True False  True False  True False False\n",
            "  True False False False  True  True False False False False  True  True\n",
            " False  True False  True False  True]\n",
            "Feature Ranking: [ 1  3 23 27 14 24 16  4 18 19 13  1  2 26  1  1  1  1  6  1  7  1  9 10\n",
            "  1 22 21  8  1  1 20 17 11  5  1  1 25  1 12  1 15  1]\n"
          ]
        },
        {
          "output_type": "execute_result",
          "data": {
            "text/plain": [
              "       environmentsatisfaction  stockoptionlevel  resignationreason_Activo  \\\n",
              "25433                      3.0                 1                         1   \n",
              "27370                      3.0                 1                         1   \n",
              "7827                       1.0                 1                         0   \n",
              "5540                       3.0                 1                         1   \n",
              "29427                      1.0                 1                         0   \n",
              "...                        ...               ...                       ...   \n",
              "11536                      4.0                 0                         1   \n",
              "28050                      3.0                 1                         0   \n",
              "9665                       4.0                 1                         0   \n",
              "25250                      4.0                 0                         1   \n",
              "19101                      2.0                 1                         1   \n",
              "\n",
              "       resignationreason_Others  resignationreason_Salary  \\\n",
              "25433                         0                         0   \n",
              "27370                         0                         0   \n",
              "7827                          1                         0   \n",
              "5540                          0                         0   \n",
              "29427                         0                         0   \n",
              "...                         ...                       ...   \n",
              "11536                         0                         0   \n",
              "28050                         1                         0   \n",
              "9665                          1                         0   \n",
              "25250                         0                         0   \n",
              "19101                         0                         0   \n",
              "\n",
              "       resignationreason_Stress  businesstravel_Travel_Frequently  \\\n",
              "25433                         0                                 0   \n",
              "27370                         0                                 0   \n",
              "7827                          0                                 0   \n",
              "5540                          0                                 0   \n",
              "29427                         1                                 0   \n",
              "...                         ...                               ...   \n",
              "11536                         0                                 1   \n",
              "28050                         0                                 0   \n",
              "9665                          0                                 1   \n",
              "25250                         0                                 0   \n",
              "19101                         0                                 1   \n",
              "\n",
              "       department_Human Resources  educationfield_Human Resources  \\\n",
              "25433                           0                               0   \n",
              "27370                           1                               0   \n",
              "7827                            0                               0   \n",
              "5540                            0                               0   \n",
              "29427                           0                               0   \n",
              "...                           ...                             ...   \n",
              "11536                           0                               0   \n",
              "28050                           0                               0   \n",
              "9665                            0                               0   \n",
              "25250                           0                               0   \n",
              "19101                           0                               0   \n",
              "\n",
              "       educationfield_Other  educationfield_Technical Degree  \\\n",
              "25433                     0                                0   \n",
              "27370                     0                                0   \n",
              "7827                      0                                0   \n",
              "5540                      0                                0   \n",
              "29427                     0                                0   \n",
              "...                     ...                              ...   \n",
              "11536                     0                                0   \n",
              "28050                     0                                0   \n",
              "9665                      0                                0   \n",
              "25250                     0                                0   \n",
              "19101                     0                                0   \n",
              "\n",
              "       jobrole_Manufacturing Director  jobrole_Research Director  \\\n",
              "25433                               0                          1   \n",
              "27370                               0                          0   \n",
              "7827                                0                          0   \n",
              "5540                                0                          0   \n",
              "29427                               0                          0   \n",
              "...                               ...                        ...   \n",
              "11536                               0                          0   \n",
              "28050                               0                          0   \n",
              "9665                                0                          0   \n",
              "25250                               0                          1   \n",
              "19101                               0                          0   \n",
              "\n",
              "       jobrole_Sales Executive  maritalstatus_Divorced  maritalstatus_Single  \n",
              "25433                        0                       0                     1  \n",
              "27370                        0                       0                     1  \n",
              "7827                         0                       0                     0  \n",
              "5540                         1                       1                     0  \n",
              "29427                        1                       0                     1  \n",
              "...                        ...                     ...                   ...  \n",
              "11536                        0                       1                     0  \n",
              "28050                        0                       1                     0  \n",
              "9665                         0                       0                     0  \n",
              "25250                        0                       0                     0  \n",
              "19101                        0                       1                     0  \n",
              "\n",
              "[17640 rows x 16 columns]"
            ],
            "text/html": [
              "\n",
              "  <div id=\"df-30423349-23bd-4ae9-8733-c321bc74389a\" class=\"colab-df-container\">\n",
              "    <div>\n",
              "<style scoped>\n",
              "    .dataframe tbody tr th:only-of-type {\n",
              "        vertical-align: middle;\n",
              "    }\n",
              "\n",
              "    .dataframe tbody tr th {\n",
              "        vertical-align: top;\n",
              "    }\n",
              "\n",
              "    .dataframe thead th {\n",
              "        text-align: right;\n",
              "    }\n",
              "</style>\n",
              "<table border=\"1\" class=\"dataframe\">\n",
              "  <thead>\n",
              "    <tr style=\"text-align: right;\">\n",
              "      <th></th>\n",
              "      <th>environmentsatisfaction</th>\n",
              "      <th>stockoptionlevel</th>\n",
              "      <th>resignationreason_Activo</th>\n",
              "      <th>resignationreason_Others</th>\n",
              "      <th>resignationreason_Salary</th>\n",
              "      <th>resignationreason_Stress</th>\n",
              "      <th>businesstravel_Travel_Frequently</th>\n",
              "      <th>department_Human Resources</th>\n",
              "      <th>educationfield_Human Resources</th>\n",
              "      <th>educationfield_Other</th>\n",
              "      <th>educationfield_Technical Degree</th>\n",
              "      <th>jobrole_Manufacturing Director</th>\n",
              "      <th>jobrole_Research Director</th>\n",
              "      <th>jobrole_Sales Executive</th>\n",
              "      <th>maritalstatus_Divorced</th>\n",
              "      <th>maritalstatus_Single</th>\n",
              "    </tr>\n",
              "  </thead>\n",
              "  <tbody>\n",
              "    <tr>\n",
              "      <th>25433</th>\n",
              "      <td>3.0</td>\n",
              "      <td>1</td>\n",
              "      <td>1</td>\n",
              "      <td>0</td>\n",
              "      <td>0</td>\n",
              "      <td>0</td>\n",
              "      <td>0</td>\n",
              "      <td>0</td>\n",
              "      <td>0</td>\n",
              "      <td>0</td>\n",
              "      <td>0</td>\n",
              "      <td>0</td>\n",
              "      <td>1</td>\n",
              "      <td>0</td>\n",
              "      <td>0</td>\n",
              "      <td>1</td>\n",
              "    </tr>\n",
              "    <tr>\n",
              "      <th>27370</th>\n",
              "      <td>3.0</td>\n",
              "      <td>1</td>\n",
              "      <td>1</td>\n",
              "      <td>0</td>\n",
              "      <td>0</td>\n",
              "      <td>0</td>\n",
              "      <td>0</td>\n",
              "      <td>1</td>\n",
              "      <td>0</td>\n",
              "      <td>0</td>\n",
              "      <td>0</td>\n",
              "      <td>0</td>\n",
              "      <td>0</td>\n",
              "      <td>0</td>\n",
              "      <td>0</td>\n",
              "      <td>1</td>\n",
              "    </tr>\n",
              "    <tr>\n",
              "      <th>7827</th>\n",
              "      <td>1.0</td>\n",
              "      <td>1</td>\n",
              "      <td>0</td>\n",
              "      <td>1</td>\n",
              "      <td>0</td>\n",
              "      <td>0</td>\n",
              "      <td>0</td>\n",
              "      <td>0</td>\n",
              "      <td>0</td>\n",
              "      <td>0</td>\n",
              "      <td>0</td>\n",
              "      <td>0</td>\n",
              "      <td>0</td>\n",
              "      <td>0</td>\n",
              "      <td>0</td>\n",
              "      <td>0</td>\n",
              "    </tr>\n",
              "    <tr>\n",
              "      <th>5540</th>\n",
              "      <td>3.0</td>\n",
              "      <td>1</td>\n",
              "      <td>1</td>\n",
              "      <td>0</td>\n",
              "      <td>0</td>\n",
              "      <td>0</td>\n",
              "      <td>0</td>\n",
              "      <td>0</td>\n",
              "      <td>0</td>\n",
              "      <td>0</td>\n",
              "      <td>0</td>\n",
              "      <td>0</td>\n",
              "      <td>0</td>\n",
              "      <td>1</td>\n",
              "      <td>1</td>\n",
              "      <td>0</td>\n",
              "    </tr>\n",
              "    <tr>\n",
              "      <th>29427</th>\n",
              "      <td>1.0</td>\n",
              "      <td>1</td>\n",
              "      <td>0</td>\n",
              "      <td>0</td>\n",
              "      <td>0</td>\n",
              "      <td>1</td>\n",
              "      <td>0</td>\n",
              "      <td>0</td>\n",
              "      <td>0</td>\n",
              "      <td>0</td>\n",
              "      <td>0</td>\n",
              "      <td>0</td>\n",
              "      <td>0</td>\n",
              "      <td>1</td>\n",
              "      <td>0</td>\n",
              "      <td>1</td>\n",
              "    </tr>\n",
              "    <tr>\n",
              "      <th>...</th>\n",
              "      <td>...</td>\n",
              "      <td>...</td>\n",
              "      <td>...</td>\n",
              "      <td>...</td>\n",
              "      <td>...</td>\n",
              "      <td>...</td>\n",
              "      <td>...</td>\n",
              "      <td>...</td>\n",
              "      <td>...</td>\n",
              "      <td>...</td>\n",
              "      <td>...</td>\n",
              "      <td>...</td>\n",
              "      <td>...</td>\n",
              "      <td>...</td>\n",
              "      <td>...</td>\n",
              "      <td>...</td>\n",
              "    </tr>\n",
              "    <tr>\n",
              "      <th>11536</th>\n",
              "      <td>4.0</td>\n",
              "      <td>0</td>\n",
              "      <td>1</td>\n",
              "      <td>0</td>\n",
              "      <td>0</td>\n",
              "      <td>0</td>\n",
              "      <td>1</td>\n",
              "      <td>0</td>\n",
              "      <td>0</td>\n",
              "      <td>0</td>\n",
              "      <td>0</td>\n",
              "      <td>0</td>\n",
              "      <td>0</td>\n",
              "      <td>0</td>\n",
              "      <td>1</td>\n",
              "      <td>0</td>\n",
              "    </tr>\n",
              "    <tr>\n",
              "      <th>28050</th>\n",
              "      <td>3.0</td>\n",
              "      <td>1</td>\n",
              "      <td>0</td>\n",
              "      <td>1</td>\n",
              "      <td>0</td>\n",
              "      <td>0</td>\n",
              "      <td>0</td>\n",
              "      <td>0</td>\n",
              "      <td>0</td>\n",
              "      <td>0</td>\n",
              "      <td>0</td>\n",
              "      <td>0</td>\n",
              "      <td>0</td>\n",
              "      <td>0</td>\n",
              "      <td>1</td>\n",
              "      <td>0</td>\n",
              "    </tr>\n",
              "    <tr>\n",
              "      <th>9665</th>\n",
              "      <td>4.0</td>\n",
              "      <td>1</td>\n",
              "      <td>0</td>\n",
              "      <td>1</td>\n",
              "      <td>0</td>\n",
              "      <td>0</td>\n",
              "      <td>1</td>\n",
              "      <td>0</td>\n",
              "      <td>0</td>\n",
              "      <td>0</td>\n",
              "      <td>0</td>\n",
              "      <td>0</td>\n",
              "      <td>0</td>\n",
              "      <td>0</td>\n",
              "      <td>0</td>\n",
              "      <td>0</td>\n",
              "    </tr>\n",
              "    <tr>\n",
              "      <th>25250</th>\n",
              "      <td>4.0</td>\n",
              "      <td>0</td>\n",
              "      <td>1</td>\n",
              "      <td>0</td>\n",
              "      <td>0</td>\n",
              "      <td>0</td>\n",
              "      <td>0</td>\n",
              "      <td>0</td>\n",
              "      <td>0</td>\n",
              "      <td>0</td>\n",
              "      <td>0</td>\n",
              "      <td>0</td>\n",
              "      <td>1</td>\n",
              "      <td>0</td>\n",
              "      <td>0</td>\n",
              "      <td>0</td>\n",
              "    </tr>\n",
              "    <tr>\n",
              "      <th>19101</th>\n",
              "      <td>2.0</td>\n",
              "      <td>1</td>\n",
              "      <td>1</td>\n",
              "      <td>0</td>\n",
              "      <td>0</td>\n",
              "      <td>0</td>\n",
              "      <td>1</td>\n",
              "      <td>0</td>\n",
              "      <td>0</td>\n",
              "      <td>0</td>\n",
              "      <td>0</td>\n",
              "      <td>0</td>\n",
              "      <td>0</td>\n",
              "      <td>0</td>\n",
              "      <td>1</td>\n",
              "      <td>0</td>\n",
              "    </tr>\n",
              "  </tbody>\n",
              "</table>\n",
              "<p>17640 rows × 16 columns</p>\n",
              "</div>\n",
              "    <div class=\"colab-df-buttons\">\n",
              "\n",
              "  <div class=\"colab-df-container\">\n",
              "    <button class=\"colab-df-convert\" onclick=\"convertToInteractive('df-30423349-23bd-4ae9-8733-c321bc74389a')\"\n",
              "            title=\"Convert this dataframe to an interactive table.\"\n",
              "            style=\"display:none;\">\n",
              "\n",
              "  <svg xmlns=\"http://www.w3.org/2000/svg\" height=\"24px\" viewBox=\"0 -960 960 960\">\n",
              "    <path d=\"M120-120v-720h720v720H120Zm60-500h600v-160H180v160Zm220 220h160v-160H400v160Zm0 220h160v-160H400v160ZM180-400h160v-160H180v160Zm440 0h160v-160H620v160ZM180-180h160v-160H180v160Zm440 0h160v-160H620v160Z\"/>\n",
              "  </svg>\n",
              "    </button>\n",
              "\n",
              "  <style>\n",
              "    .colab-df-container {\n",
              "      display:flex;\n",
              "      gap: 12px;\n",
              "    }\n",
              "\n",
              "    .colab-df-convert {\n",
              "      background-color: #E8F0FE;\n",
              "      border: none;\n",
              "      border-radius: 50%;\n",
              "      cursor: pointer;\n",
              "      display: none;\n",
              "      fill: #1967D2;\n",
              "      height: 32px;\n",
              "      padding: 0 0 0 0;\n",
              "      width: 32px;\n",
              "    }\n",
              "\n",
              "    .colab-df-convert:hover {\n",
              "      background-color: #E2EBFA;\n",
              "      box-shadow: 0px 1px 2px rgba(60, 64, 67, 0.3), 0px 1px 3px 1px rgba(60, 64, 67, 0.15);\n",
              "      fill: #174EA6;\n",
              "    }\n",
              "\n",
              "    .colab-df-buttons div {\n",
              "      margin-bottom: 4px;\n",
              "    }\n",
              "\n",
              "    [theme=dark] .colab-df-convert {\n",
              "      background-color: #3B4455;\n",
              "      fill: #D2E3FC;\n",
              "    }\n",
              "\n",
              "    [theme=dark] .colab-df-convert:hover {\n",
              "      background-color: #434B5C;\n",
              "      box-shadow: 0px 1px 3px 1px rgba(0, 0, 0, 0.15);\n",
              "      filter: drop-shadow(0px 1px 2px rgba(0, 0, 0, 0.3));\n",
              "      fill: #FFFFFF;\n",
              "    }\n",
              "  </style>\n",
              "\n",
              "    <script>\n",
              "      const buttonEl =\n",
              "        document.querySelector('#df-30423349-23bd-4ae9-8733-c321bc74389a button.colab-df-convert');\n",
              "      buttonEl.style.display =\n",
              "        google.colab.kernel.accessAllowed ? 'block' : 'none';\n",
              "\n",
              "      async function convertToInteractive(key) {\n",
              "        const element = document.querySelector('#df-30423349-23bd-4ae9-8733-c321bc74389a');\n",
              "        const dataTable =\n",
              "          await google.colab.kernel.invokeFunction('convertToInteractive',\n",
              "                                                    [key], {});\n",
              "        if (!dataTable) return;\n",
              "\n",
              "        const docLinkHtml = 'Like what you see? Visit the ' +\n",
              "          '<a target=\"_blank\" href=https://colab.research.google.com/notebooks/data_table.ipynb>data table notebook</a>'\n",
              "          + ' to learn more about interactive tables.';\n",
              "        element.innerHTML = '';\n",
              "        dataTable['output_type'] = 'display_data';\n",
              "        await google.colab.output.renderOutput(dataTable, element);\n",
              "        const docLink = document.createElement('div');\n",
              "        docLink.innerHTML = docLinkHtml;\n",
              "        element.appendChild(docLink);\n",
              "      }\n",
              "    </script>\n",
              "  </div>\n",
              "\n",
              "\n",
              "<div id=\"df-db8a72fb-f075-4e80-b3f9-3ef7a0301e7b\">\n",
              "  <button class=\"colab-df-quickchart\" onclick=\"quickchart('df-db8a72fb-f075-4e80-b3f9-3ef7a0301e7b')\"\n",
              "            title=\"Suggest charts\"\n",
              "            style=\"display:none;\">\n",
              "\n",
              "<svg xmlns=\"http://www.w3.org/2000/svg\" height=\"24px\"viewBox=\"0 0 24 24\"\n",
              "     width=\"24px\">\n",
              "    <g>\n",
              "        <path d=\"M19 3H5c-1.1 0-2 .9-2 2v14c0 1.1.9 2 2 2h14c1.1 0 2-.9 2-2V5c0-1.1-.9-2-2-2zM9 17H7v-7h2v7zm4 0h-2V7h2v10zm4 0h-2v-4h2v4z\"/>\n",
              "    </g>\n",
              "</svg>\n",
              "  </button>\n",
              "\n",
              "<style>\n",
              "  .colab-df-quickchart {\n",
              "      --bg-color: #E8F0FE;\n",
              "      --fill-color: #1967D2;\n",
              "      --hover-bg-color: #E2EBFA;\n",
              "      --hover-fill-color: #174EA6;\n",
              "      --disabled-fill-color: #AAA;\n",
              "      --disabled-bg-color: #DDD;\n",
              "  }\n",
              "\n",
              "  [theme=dark] .colab-df-quickchart {\n",
              "      --bg-color: #3B4455;\n",
              "      --fill-color: #D2E3FC;\n",
              "      --hover-bg-color: #434B5C;\n",
              "      --hover-fill-color: #FFFFFF;\n",
              "      --disabled-bg-color: #3B4455;\n",
              "      --disabled-fill-color: #666;\n",
              "  }\n",
              "\n",
              "  .colab-df-quickchart {\n",
              "    background-color: var(--bg-color);\n",
              "    border: none;\n",
              "    border-radius: 50%;\n",
              "    cursor: pointer;\n",
              "    display: none;\n",
              "    fill: var(--fill-color);\n",
              "    height: 32px;\n",
              "    padding: 0;\n",
              "    width: 32px;\n",
              "  }\n",
              "\n",
              "  .colab-df-quickchart:hover {\n",
              "    background-color: var(--hover-bg-color);\n",
              "    box-shadow: 0 1px 2px rgba(60, 64, 67, 0.3), 0 1px 3px 1px rgba(60, 64, 67, 0.15);\n",
              "    fill: var(--button-hover-fill-color);\n",
              "  }\n",
              "\n",
              "  .colab-df-quickchart-complete:disabled,\n",
              "  .colab-df-quickchart-complete:disabled:hover {\n",
              "    background-color: var(--disabled-bg-color);\n",
              "    fill: var(--disabled-fill-color);\n",
              "    box-shadow: none;\n",
              "  }\n",
              "\n",
              "  .colab-df-spinner {\n",
              "    border: 2px solid var(--fill-color);\n",
              "    border-color: transparent;\n",
              "    border-bottom-color: var(--fill-color);\n",
              "    animation:\n",
              "      spin 1s steps(1) infinite;\n",
              "  }\n",
              "\n",
              "  @keyframes spin {\n",
              "    0% {\n",
              "      border-color: transparent;\n",
              "      border-bottom-color: var(--fill-color);\n",
              "      border-left-color: var(--fill-color);\n",
              "    }\n",
              "    20% {\n",
              "      border-color: transparent;\n",
              "      border-left-color: var(--fill-color);\n",
              "      border-top-color: var(--fill-color);\n",
              "    }\n",
              "    30% {\n",
              "      border-color: transparent;\n",
              "      border-left-color: var(--fill-color);\n",
              "      border-top-color: var(--fill-color);\n",
              "      border-right-color: var(--fill-color);\n",
              "    }\n",
              "    40% {\n",
              "      border-color: transparent;\n",
              "      border-right-color: var(--fill-color);\n",
              "      border-top-color: var(--fill-color);\n",
              "    }\n",
              "    60% {\n",
              "      border-color: transparent;\n",
              "      border-right-color: var(--fill-color);\n",
              "    }\n",
              "    80% {\n",
              "      border-color: transparent;\n",
              "      border-right-color: var(--fill-color);\n",
              "      border-bottom-color: var(--fill-color);\n",
              "    }\n",
              "    90% {\n",
              "      border-color: transparent;\n",
              "      border-bottom-color: var(--fill-color);\n",
              "    }\n",
              "  }\n",
              "</style>\n",
              "\n",
              "  <script>\n",
              "    async function quickchart(key) {\n",
              "      const quickchartButtonEl =\n",
              "        document.querySelector('#' + key + ' button');\n",
              "      quickchartButtonEl.disabled = true;  // To prevent multiple clicks.\n",
              "      quickchartButtonEl.classList.add('colab-df-spinner');\n",
              "      try {\n",
              "        const charts = await google.colab.kernel.invokeFunction(\n",
              "            'suggestCharts', [key], {});\n",
              "      } catch (error) {\n",
              "        console.error('Error during call to suggestCharts:', error);\n",
              "      }\n",
              "      quickchartButtonEl.classList.remove('colab-df-spinner');\n",
              "      quickchartButtonEl.classList.add('colab-df-quickchart-complete');\n",
              "    }\n",
              "    (() => {\n",
              "      let quickchartButtonEl =\n",
              "        document.querySelector('#df-db8a72fb-f075-4e80-b3f9-3ef7a0301e7b button');\n",
              "      quickchartButtonEl.style.display =\n",
              "        google.colab.kernel.accessAllowed ? 'block' : 'none';\n",
              "    })();\n",
              "  </script>\n",
              "</div>\n",
              "    </div>\n",
              "  </div>\n"
            ],
            "application/vnd.google.colaboratory.intrinsic+json": {
              "type": "dataframe",
              "summary": "{\n  \"name\": \"X_train\",\n  \"rows\": 17640,\n  \"fields\": [\n    {\n      \"column\": \"environmentsatisfaction\",\n      \"properties\": {\n        \"dtype\": \"number\",\n        \"std\": 1.0907392848776858,\n        \"min\": 1.0,\n        \"max\": 4.0,\n        \"num_unique_values\": 4,\n        \"samples\": [\n          1.0,\n          2.0,\n          3.0\n        ],\n        \"semantic_type\": \"\",\n        \"description\": \"\"\n      }\n    },\n    {\n      \"column\": \"stockoptionlevel\",\n      \"properties\": {\n        \"dtype\": \"number\",\n        \"std\": 0,\n        \"min\": 0,\n        \"max\": 3,\n        \"num_unique_values\": 4,\n        \"samples\": [\n          0,\n          2,\n          1\n        ],\n        \"semantic_type\": \"\",\n        \"description\": \"\"\n      }\n    },\n    {\n      \"column\": \"resignationreason_Activo\",\n      \"properties\": {\n        \"dtype\": \"uint8\",\n        \"num_unique_values\": 2,\n        \"samples\": [\n          0,\n          1\n        ],\n        \"semantic_type\": \"\",\n        \"description\": \"\"\n      }\n    },\n    {\n      \"column\": \"resignationreason_Others\",\n      \"properties\": {\n        \"dtype\": \"uint8\",\n        \"num_unique_values\": 2,\n        \"samples\": [\n          1,\n          0\n        ],\n        \"semantic_type\": \"\",\n        \"description\": \"\"\n      }\n    },\n    {\n      \"column\": \"resignationreason_Salary\",\n      \"properties\": {\n        \"dtype\": \"uint8\",\n        \"num_unique_values\": 2,\n        \"samples\": [\n          1,\n          0\n        ],\n        \"semantic_type\": \"\",\n        \"description\": \"\"\n      }\n    },\n    {\n      \"column\": \"resignationreason_Stress\",\n      \"properties\": {\n        \"dtype\": \"uint8\",\n        \"num_unique_values\": 2,\n        \"samples\": [\n          1,\n          0\n        ],\n        \"semantic_type\": \"\",\n        \"description\": \"\"\n      }\n    },\n    {\n      \"column\": \"businesstravel_Travel_Frequently\",\n      \"properties\": {\n        \"dtype\": \"uint8\",\n        \"num_unique_values\": 2,\n        \"samples\": [\n          1,\n          0\n        ],\n        \"semantic_type\": \"\",\n        \"description\": \"\"\n      }\n    },\n    {\n      \"column\": \"department_Human Resources\",\n      \"properties\": {\n        \"dtype\": \"uint8\",\n        \"num_unique_values\": 2,\n        \"samples\": [\n          1,\n          0\n        ],\n        \"semantic_type\": \"\",\n        \"description\": \"\"\n      }\n    },\n    {\n      \"column\": \"educationfield_Human Resources\",\n      \"properties\": {\n        \"dtype\": \"uint8\",\n        \"num_unique_values\": 2,\n        \"samples\": [\n          1,\n          0\n        ],\n        \"semantic_type\": \"\",\n        \"description\": \"\"\n      }\n    },\n    {\n      \"column\": \"educationfield_Other\",\n      \"properties\": {\n        \"dtype\": \"uint8\",\n        \"num_unique_values\": 2,\n        \"samples\": [\n          1,\n          0\n        ],\n        \"semantic_type\": \"\",\n        \"description\": \"\"\n      }\n    },\n    {\n      \"column\": \"educationfield_Technical Degree\",\n      \"properties\": {\n        \"dtype\": \"uint8\",\n        \"num_unique_values\": 2,\n        \"samples\": [\n          1,\n          0\n        ],\n        \"semantic_type\": \"\",\n        \"description\": \"\"\n      }\n    },\n    {\n      \"column\": \"jobrole_Manufacturing Director\",\n      \"properties\": {\n        \"dtype\": \"uint8\",\n        \"num_unique_values\": 2,\n        \"samples\": [\n          1,\n          0\n        ],\n        \"semantic_type\": \"\",\n        \"description\": \"\"\n      }\n    },\n    {\n      \"column\": \"jobrole_Research Director\",\n      \"properties\": {\n        \"dtype\": \"uint8\",\n        \"num_unique_values\": 2,\n        \"samples\": [\n          0,\n          1\n        ],\n        \"semantic_type\": \"\",\n        \"description\": \"\"\n      }\n    },\n    {\n      \"column\": \"jobrole_Sales Executive\",\n      \"properties\": {\n        \"dtype\": \"uint8\",\n        \"num_unique_values\": 2,\n        \"samples\": [\n          1,\n          0\n        ],\n        \"semantic_type\": \"\",\n        \"description\": \"\"\n      }\n    },\n    {\n      \"column\": \"maritalstatus_Divorced\",\n      \"properties\": {\n        \"dtype\": \"uint8\",\n        \"num_unique_values\": 2,\n        \"samples\": [\n          1,\n          0\n        ],\n        \"semantic_type\": \"\",\n        \"description\": \"\"\n      }\n    },\n    {\n      \"column\": \"maritalstatus_Single\",\n      \"properties\": {\n        \"dtype\": \"uint8\",\n        \"num_unique_values\": 2,\n        \"samples\": [\n          0,\n          1\n        ],\n        \"semantic_type\": \"\",\n        \"description\": \"\"\n      }\n    }\n  ]\n}"
            }
          },
          "metadata": {},
          "execution_count": 75
        }
      ]
    },
    {
      "cell_type": "markdown",
      "source": [
        "###Modelo de regresión logística"
      ],
      "metadata": {
        "id": "xztuZ7cE0XUb"
      }
    },
    {
      "cell_type": "code",
      "source": [
        "# Entrenamiento del modelo\n",
        "modelo = LogisticRegression(random_state=142, class_weight='balanced')\n",
        "\n",
        "# Ajustar el modelo a los datos\n",
        "modelo.fit(X_train_base1, y_train)\n",
        "\n",
        "# Desempeño en el entrenamiento\n",
        "y_train_pred2 = modelo.predict(X_train_base1)\n",
        "\n",
        "print('Exactitud en el entrenamiento: %.3f'  %accuracy_score(y_train, y_train_pred2) )"
      ],
      "metadata": {
        "colab": {
          "base_uri": "https://localhost:8080/"
        },
        "id": "Gp1MkYSSztND",
        "outputId": "1ea42ce7-2dcd-4353-9457-3774fe79746e"
      },
      "execution_count": 76,
      "outputs": [
        {
          "output_type": "stream",
          "name": "stdout",
          "text": [
            "Exactitud en el entrenamiento: 0.985\n"
          ]
        }
      ]
    },
    {
      "cell_type": "code",
      "source": [
        "y_pred = modelo.predict(X_test_base1)\n",
        "\n",
        "# Exactitud en el conjunto de validación\n",
        "print('Exactitud en la validacion: %.3f'  %accuracy_score(y_test, y_pred))"
      ],
      "metadata": {
        "colab": {
          "base_uri": "https://localhost:8080/"
        },
        "id": "mTVT6Mju4mg9",
        "outputId": "41e8c42f-4c8a-4a44-a20c-0ae07c7e8e90"
      },
      "execution_count": 77,
      "outputs": [
        {
          "output_type": "stream",
          "name": "stdout",
          "text": [
            "Exactitud en la validacion: 0.983\n"
          ]
        }
      ]
    },
    {
      "cell_type": "code",
      "source": [
        "###Matriz de confusión\n",
        "matriz= confusion_matrix(y_test, y_pred)\n",
        "matriz_display = ConfusionMatrixDisplay(confusion_matrix=matriz, display_labels=['No renuncia', 'renuncia'])\n",
        "matriz_display.plot()\n",
        "plt.show()"
      ],
      "metadata": {
        "colab": {
          "base_uri": "https://localhost:8080/",
          "height": 449
        },
        "id": "unZGPUH74r-k",
        "outputId": "81a9e319-3066-4077-f00c-9eaefbc1d1f0"
      },
      "execution_count": 78,
      "outputs": [
        {
          "output_type": "display_data",
          "data": {
            "text/plain": [
              "<Figure size 640x480 with 2 Axes>"
            ],
            "image/png": "[encoded data removed]"
          },
          "metadata": {}
        }
      ]
    },
    {
      "cell_type": "code",
      "source": [
        "### metricas del modelo\n",
        "tn, fp, fn, tp = matriz.ravel()\n",
        "\n",
        "precision = tp / (tp + fp)\n",
        "recall = tp / (tp + fn)\n",
        "especificidad = tn / (fp + tn)\n",
        "f1_score = 2*(precision*recall)/(precision+recall)\n",
        "\n",
        "print(f'Precision: {precision}')\n",
        "print(f'Recall: {recall}')\n",
        "print(f'Especificidad: {especificidad}')\n",
        "print(f'F1 score: {f1_score}')"
      ],
      "metadata": {
        "colab": {
          "base_uri": "https://localhost:8080/"
        },
        "id": "qfnK4Uyg42Hl",
        "outputId": "77acbe9e-c22a-41e9-9808-d94dd7a6dd20"
      },
      "execution_count": 79,
      "outputs": [
        {
          "output_type": "stream",
          "name": "stdout",
          "text": [
            "Precision: 0.9941837921675067\n",
            "Recall: 0.9021815622800844\n",
            "Especificidad: 0.9989863495066901\n",
            "F1 score: 0.9459509315624424\n"
          ]
        }
      ]
    },
    {
      "cell_type": "markdown",
      "source": [
        "###Random Forest Classifier"
      ],
      "metadata": {
        "id": "cHi2_8IA412L"
      }
    },
    {
      "cell_type": "code",
      "source": [
        "## se crea el modelo\n",
        "X_train_modelo3=X_train_base1\n",
        "X_test_modelo3=X_test_base1\n",
        "\n",
        "ranfor = RandomForestClassifier(class_weight=\"balanced\",n_estimators = 150,criterion= 'gini', max_depth= 5,max_leaf_nodes = 10,n_jobs= -1,random_state = 123)\n",
        "ranfor.fit(X_train_modelo3, y_train)"
      ],
      "metadata": {
        "colab": {
          "base_uri": "https://localhost:8080/",
          "height": 92
        },
        "id": "OxFf0CRg5II1",
        "outputId": "058d2bf5-39d8-420e-b6fe-b8400da1daff"
      },
      "execution_count": 90,
      "outputs": [
        {
          "output_type": "execute_result",
          "data": {
            "text/plain": [
              "RandomForestClassifier(class_weight='balanced', max_depth=5, max_leaf_nodes=10,\n",
              "                       n_estimators=150, n_jobs=-1, random_state=123)"
            ],
            "text/html": [
              "<style>#sk-container-id-7 {color: black;background-color: white;}#sk-container-id-7 pre{padding: 0;}#sk-container-id-7 div.sk-toggleable {background-color: white;}#sk-container-id-7 label.sk-toggleable__label {cursor: pointer;display: block;width: 100%;margin-bottom: 0;padding: 0.3em;box-sizing: border-box;text-align: center;}#sk-container-id-7 label.sk-toggleable__label-arrow:before {content: \"▸\";float: left;margin-right: 0.25em;color: #696969;}#sk-container-id-7 label.sk-toggleable__label-arrow:hover:before {color: black;}#sk-container-id-7 div.sk-estimator:hover label.sk-toggleable__label-arrow:before {color: black;}#sk-container-id-7 div.sk-toggleable__content {max-height: 0;max-width: 0;overflow: hidden;text-align: left;background-color: #f0f8ff;}#sk-container-id-7 div.sk-toggleable__content pre {margin: 0.2em;color: black;border-radius: 0.25em;background-color: #f0f8ff;}#sk-container-id-7 input.sk-toggleable__control:checked~div.sk-toggleable__content {max-height: 200px;max-width: 100%;overflow: auto;}#sk-container-id-7 input.sk-toggleable__control:checked~label.sk-toggleable__label-arrow:before {content: \"▾\";}#sk-container-id-7 div.sk-estimator input.sk-toggleable__control:checked~label.sk-toggleable__label {background-color: #d4ebff;}#sk-container-id-7 div.sk-label input.sk-toggleable__control:checked~label.sk-toggleable__label {background-color: #d4ebff;}#sk-container-id-7 input.sk-hidden--visually {border: 0;clip: rect(1px 1px 1px 1px);clip: rect(1px, 1px, 1px, 1px);height: 1px;margin: -1px;overflow: hidden;padding: 0;position: absolute;width: 1px;}#sk-container-id-7 div.sk-estimator {font-family: monospace;background-color: #f0f8ff;border: 1px dotted black;border-radius: 0.25em;box-sizing: border-box;margin-bottom: 0.5em;}#sk-container-id-7 div.sk-estimator:hover {background-color: #d4ebff;}#sk-container-id-7 div.sk-parallel-item::after {content: \"\";width: 100%;border-bottom: 1px solid gray;flex-grow: 1;}#sk-container-id-7 div.sk-label:hover label.sk-toggleable__label {background-color: #d4ebff;}#sk-container-id-7 div.sk-serial::before {content: \"\";position: absolute;border-left: 1px solid gray;box-sizing: border-box;top: 0;bottom: 0;left: 50%;z-index: 0;}#sk-container-id-7 div.sk-serial {display: flex;flex-direction: column;align-items: center;background-color: white;padding-right: 0.2em;padding-left: 0.2em;position: relative;}#sk-container-id-7 div.sk-item {position: relative;z-index: 1;}#sk-container-id-7 div.sk-parallel {display: flex;align-items: stretch;justify-content: center;background-color: white;position: relative;}#sk-container-id-7 div.sk-item::before, #sk-container-id-7 div.sk-parallel-item::before {content: \"\";position: absolute;border-left: 1px solid gray;box-sizing: border-box;top: 0;bottom: 0;left: 50%;z-index: -1;}#sk-container-id-7 div.sk-parallel-item {display: flex;flex-direction: column;z-index: 1;position: relative;background-color: white;}#sk-container-id-7 div.sk-parallel-item:first-child::after {align-self: flex-end;width: 50%;}#sk-container-id-7 div.sk-parallel-item:last-child::after {align-self: flex-start;width: 50%;}#sk-container-id-7 div.sk-parallel-item:only-child::after {width: 0;}#sk-container-id-7 div.sk-dashed-wrapped {border: 1px dashed gray;margin: 0 0.4em 0.5em 0.4em;box-sizing: border-box;padding-bottom: 0.4em;background-color: white;}#sk-container-id-7 div.sk-label label {font-family: monospace;font-weight: bold;display: inline-block;line-height: 1.2em;}#sk-container-id-7 div.sk-label-container {text-align: center;}#sk-container-id-7 div.sk-container {/* jupyter's `normalize.less` sets `[hidden] { display: none; }` but bootstrap.min.css set `[hidden] { display: none !important; }` so we also need the `!important` here to be able to override the default hidden behavior on the sphinx rendered scikit-learn.org. See: https://github.com/scikit-learn/scikit-learn/issues/21755 */display: inline-block !important;position: relative;}#sk-container-id-7 div.sk-text-repr-fallback {display: none;}</style><div id=\"sk-container-id-7\" class=\"sk-top-container\"><div class=\"sk-text-repr-fallback\"><pre>RandomForestClassifier(class_weight=&#x27;balanced&#x27;, max_depth=5, max_leaf_nodes=10,\n",
              "                       n_estimators=150, n_jobs=-1, random_state=123)</pre><b>In a Jupyter environment, please rerun this cell to show the HTML representation or trust the notebook. <br />On GitHub, the HTML representation is unable to render, please try loading this page with nbviewer.org.</b></div><div class=\"sk-container\" hidden><div class=\"sk-item\"><div class=\"sk-estimator sk-toggleable\"><input class=\"sk-toggleable__control sk-hidden--visually\" id=\"sk-estimator-id-7\" type=\"checkbox\" checked><label for=\"sk-estimator-id-7\" class=\"sk-toggleable__label sk-toggleable__label-arrow\">RandomForestClassifier</label><div class=\"sk-toggleable__content\"><pre>RandomForestClassifier(class_weight=&#x27;balanced&#x27;, max_depth=5, max_leaf_nodes=10,\n",
              "                       n_estimators=150, n_jobs=-1, random_state=123)</pre></div></div></div></div></div>"
            ]
          },
          "metadata": {},
          "execution_count": 90
        }
      ]
    },
    {
      "cell_type": "code",
      "source": [
        "###metricas\n",
        "print (\"Train - Accuracy :\", metrics.accuracy_score(y_train, ranfor.predict(X_train_modelo3)))\n",
        "print (\"Train - classification report:\\n\", metrics.classification_report(y_train, ranfor.predict(X_train_modelo3)))\n",
        "print (\"Test - Accuracy :\", metrics.accuracy_score(y_test, ranfor.predict(X_test_modelo3)))\n",
        "print (\"Test - classification report :\", metrics.classification_report(y_test, ranfor.predict(X_test_modelo3)))"
      ],
      "metadata": {
        "colab": {
          "base_uri": "https://localhost:8080/"
        },
        "id": "79q1LNTt5S3s",
        "outputId": "df5df497-3504-46a7-c443-f587a1e92fb8"
      },
      "execution_count": 81,
      "outputs": [
        {
          "output_type": "stream",
          "name": "stdout",
          "text": [
            "Train - Accuracy : 0.9866780045351474\n",
            "Train - classification report:\n",
            "               precision    recall  f1-score   support\n",
            "\n",
            "           0       0.98      1.00      0.99     14794\n",
            "           1       1.00      0.92      0.96      2846\n",
            "\n",
            "    accuracy                           0.99     17640\n",
            "   macro avg       0.99      0.96      0.97     17640\n",
            "weighted avg       0.99      0.99      0.99     17640\n",
            "\n",
            "Test - Accuracy : 0.984750566893424\n",
            "Test - classification report :               precision    recall  f1-score   support\n",
            "\n",
            "           0       0.98      1.00      0.99     14798\n",
            "           1       1.00      0.91      0.95      2842\n",
            "\n",
            "    accuracy                           0.98     17640\n",
            "   macro avg       0.99      0.95      0.97     17640\n",
            "weighted avg       0.99      0.98      0.98     17640\n",
            "\n"
          ]
        }
      ]
    },
    {
      "cell_type": "code",
      "source": [
        "# Matriz de confusion\n",
        "cm= confusion_matrix(y_test, ranfor.predict(X_test_modelo3))\n",
        "# Visualización de la matriz de confusion\n",
        "cm_display = ConfusionMatrixDisplay(confusion_matrix = cm, display_labels=['No renuncia', 'renuncia'])\n",
        "cm_display.plot()\n",
        "plt.show()"
      ],
      "metadata": {
        "colab": {
          "base_uri": "https://localhost:8080/",
          "height": 449
        },
        "id": "PCz4AUq55xH3",
        "outputId": "41b4111a-7311-4697-ba0d-33572f126d8a"
      },
      "execution_count": 82,
      "outputs": [
        {
          "output_type": "display_data",
          "data": {
            "text/plain": [
              "<Figure size 640x480 with 2 Axes>"
            ],
            "image/png": "[encoded data removed]"
          },
          "metadata": {}
        }
      ]
    },
    {
      "cell_type": "markdown",
      "source": [
        "###Gradient Boosting Classifier"
      ],
      "metadata": {
        "id": "qSbuMy5s6BU0"
      }
    },
    {
      "cell_type": "code",
      "source": [
        "##se crea el modelo\n",
        "X_train_modelo4= x_train_res[:, X_new]\n",
        "X_test_modelo4 = X_test_std[:, X_new]\n",
        "gboos = GradientBoostingClassifier( n_estimators = 100, learning_rate= 0.1, max_features = 4, random_state = 123)\n",
        "gboos.fit(X_train_modelo4, y_train_res)"
      ],
      "metadata": {
        "colab": {
          "base_uri": "https://localhost:8080/",
          "height": 75
        },
        "id": "Wt5XeyAw54XY",
        "outputId": "0d67da75-0098-48d1-ed5e-5e9504171ac6"
      },
      "execution_count": 83,
      "outputs": [
        {
          "output_type": "execute_result",
          "data": {
            "text/plain": [
              "GradientBoostingClassifier(max_features=4, random_state=123)"
            ],
            "text/html": [
              "<style>#sk-container-id-5 {color: black;background-color: white;}#sk-container-id-5 pre{padding: 0;}#sk-container-id-5 div.sk-toggleable {background-color: white;}#sk-container-id-5 label.sk-toggleable__label {cursor: pointer;display: block;width: 100%;margin-bottom: 0;padding: 0.3em;box-sizing: border-box;text-align: center;}#sk-container-id-5 label.sk-toggleable__label-arrow:before {content: \"▸\";float: left;margin-right: 0.25em;color: #696969;}#sk-container-id-5 label.sk-toggleable__label-arrow:hover:before {color: black;}#sk-container-id-5 div.sk-estimator:hover label.sk-toggleable__label-arrow:before {color: black;}#sk-container-id-5 div.sk-toggleable__content {max-height: 0;max-width: 0;overflow: hidden;text-align: left;background-color: #f0f8ff;}#sk-container-id-5 div.sk-toggleable__content pre {margin: 0.2em;color: black;border-radius: 0.25em;background-color: #f0f8ff;}#sk-container-id-5 input.sk-toggleable__control:checked~div.sk-toggleable__content {max-height: 200px;max-width: 100%;overflow: auto;}#sk-container-id-5 input.sk-toggleable__control:checked~label.sk-toggleable__label-arrow:before {content: \"▾\";}#sk-container-id-5 div.sk-estimator input.sk-toggleable__control:checked~label.sk-toggleable__label {background-color: #d4ebff;}#sk-container-id-5 div.sk-label input.sk-toggleable__control:checked~label.sk-toggleable__label {background-color: #d4ebff;}#sk-container-id-5 input.sk-hidden--visually {border: 0;clip: rect(1px 1px 1px 1px);clip: rect(1px, 1px, 1px, 1px);height: 1px;margin: -1px;overflow: hidden;padding: 0;position: absolute;width: 1px;}#sk-container-id-5 div.sk-estimator {font-family: monospace;background-color: #f0f8ff;border: 1px dotted black;border-radius: 0.25em;box-sizing: border-box;margin-bottom: 0.5em;}#sk-container-id-5 div.sk-estimator:hover {background-color: #d4ebff;}#sk-container-id-5 div.sk-parallel-item::after {content: \"\";width: 100%;border-bottom: 1px solid gray;flex-grow: 1;}#sk-container-id-5 div.sk-label:hover label.sk-toggleable__label {background-color: #d4ebff;}#sk-container-id-5 div.sk-serial::before {content: \"\";position: absolute;border-left: 1px solid gray;box-sizing: border-box;top: 0;bottom: 0;left: 50%;z-index: 0;}#sk-container-id-5 div.sk-serial {display: flex;flex-direction: column;align-items: center;background-color: white;padding-right: 0.2em;padding-left: 0.2em;position: relative;}#sk-container-id-5 div.sk-item {position: relative;z-index: 1;}#sk-container-id-5 div.sk-parallel {display: flex;align-items: stretch;justify-content: center;background-color: white;position: relative;}#sk-container-id-5 div.sk-item::before, #sk-container-id-5 div.sk-parallel-item::before {content: \"\";position: absolute;border-left: 1px solid gray;box-sizing: border-box;top: 0;bottom: 0;left: 50%;z-index: -1;}#sk-container-id-5 div.sk-parallel-item {display: flex;flex-direction: column;z-index: 1;position: relative;background-color: white;}#sk-container-id-5 div.sk-parallel-item:first-child::after {align-self: flex-end;width: 50%;}#sk-container-id-5 div.sk-parallel-item:last-child::after {align-self: flex-start;width: 50%;}#sk-container-id-5 div.sk-parallel-item:only-child::after {width: 0;}#sk-container-id-5 div.sk-dashed-wrapped {border: 1px dashed gray;margin: 0 0.4em 0.5em 0.4em;box-sizing: border-box;padding-bottom: 0.4em;background-color: white;}#sk-container-id-5 div.sk-label label {font-family: monospace;font-weight: bold;display: inline-block;line-height: 1.2em;}#sk-container-id-5 div.sk-label-container {text-align: center;}#sk-container-id-5 div.sk-container {/* jupyter's `normalize.less` sets `[hidden] { display: none; }` but bootstrap.min.css set `[hidden] { display: none !important; }` so we also need the `!important` here to be able to override the default hidden behavior on the sphinx rendered scikit-learn.org. See: https://github.com/scikit-learn/scikit-learn/issues/21755 */display: inline-block !important;position: relative;}#sk-container-id-5 div.sk-text-repr-fallback {display: none;}</style><div id=\"sk-container-id-5\" class=\"sk-top-container\"><div class=\"sk-text-repr-fallback\"><pre>GradientBoostingClassifier(max_features=4, random_state=123)</pre><b>In a Jupyter environment, please rerun this cell to show the HTML representation or trust the notebook. <br />On GitHub, the HTML representation is unable to render, please try loading this page with nbviewer.org.</b></div><div class=\"sk-container\" hidden><div class=\"sk-item\"><div class=\"sk-estimator sk-toggleable\"><input class=\"sk-toggleable__control sk-hidden--visually\" id=\"sk-estimator-id-5\" type=\"checkbox\" checked><label for=\"sk-estimator-id-5\" class=\"sk-toggleable__label sk-toggleable__label-arrow\">GradientBoostingClassifier</label><div class=\"sk-toggleable__content\"><pre>GradientBoostingClassifier(max_features=4, random_state=123)</pre></div></div></div></div></div>"
            ]
          },
          "metadata": {},
          "execution_count": 83
        }
      ]
    },
    {
      "cell_type": "code",
      "source": [
        "##metricas\n",
        "print (\"Train - Accuracy :\", metrics.accuracy_score(y_train_res, gboos.predict(X_train_modelo4)))\n",
        "print (\"Train - classification report:\\n\", metrics.classification_report(y_train_res, gboos.predict(X_train_modelo4)))\n",
        "print (\"Test - Accuracy :\", metrics.accuracy_score(y_test, gboos.predict(X_test_modelo4)))\n",
        "print (\"Test - classification report :\", metrics.classification_report(y_test, gboos.predict(X_test_modelo4)))"
      ],
      "metadata": {
        "colab": {
          "base_uri": "https://localhost:8080/"
        },
        "id": "ZfsuKzpR6Vct",
        "outputId": "747cd67b-c363-43c5-84e5-650b6a1ee405"
      },
      "execution_count": 84,
      "outputs": [
        {
          "output_type": "stream",
          "name": "stdout",
          "text": [
            "Train - Accuracy : 0.9758320394248295\n",
            "Train - classification report:\n",
            "               precision    recall  f1-score   support\n",
            "\n",
            "           0       0.95      1.00      0.98     14813\n",
            "           1       1.00      0.95      0.98     14813\n",
            "\n",
            "    accuracy                           0.98     29626\n",
            "   macro avg       0.98      0.98      0.98     29626\n",
            "weighted avg       0.98      0.98      0.98     29626\n",
            "\n",
            "Test - Accuracy : 0.9874149659863946\n",
            "Test - classification report :               precision    recall  f1-score   support\n",
            "\n",
            "           0       0.99      1.00      0.99     14798\n",
            "           1       1.00      0.93      0.96      2842\n",
            "\n",
            "    accuracy                           0.99     17640\n",
            "   macro avg       0.99      0.96      0.98     17640\n",
            "weighted avg       0.99      0.99      0.99     17640\n",
            "\n"
          ]
        }
      ]
    },
    {
      "cell_type": "code",
      "source": [
        "##matriz de confusióm\n",
        "cm1= confusion_matrix(y_test, gboos.predict(X_test_modelo4))\n",
        "cm1_display = ConfusionMatrixDisplay(confusion_matrix = cm1,  display_labels=['No renuncia', 'renuncia'])\n",
        "cm1_display.plot()\n",
        "plt.show()"
      ],
      "metadata": {
        "colab": {
          "base_uri": "https://localhost:8080/",
          "height": 449
        },
        "id": "AGFNMnRa6f35",
        "outputId": "75db7e65-c774-47c1-a78f-bb06b2d28381"
      },
      "execution_count": 85,
      "outputs": [
        {
          "output_type": "display_data",
          "data": {
            "text/plain": [
              "<Figure size 640x480 with 2 Axes>"
            ],
            "image/png": "[encoded data removed]"
          },
          "metadata": {}
        }
      ]
    },
    {
      "cell_type": "code",
      "source": [
        "##se grafica curva de roc\n",
        "y_pred = gboos.predict_proba(X_test_modelo4)[::,1]\n",
        "fpr, tpr,_ =roc_curve(y_test, y_pred)\n",
        "auc = roc_auc_score(y_test, y_pred)\n",
        "plt.plot(fpr, tpr,marker='.',label='Logistic (auc= %0.3f)'%auc)\n",
        "plt.xlabel('False positive rate')\n",
        "plt.ylabel('True positive rate')\n",
        "plt.legend()\n",
        "plt.show()"
      ],
      "metadata": {
        "colab": {
          "base_uri": "https://localhost:8080/",
          "height": 449
        },
        "id": "kkuzu4z16h_7",
        "outputId": "40e94cd3-0bc5-47d0-e6d1-136c56f8b4c8"
      },
      "execution_count": 86,
      "outputs": [
        {
          "output_type": "display_data",
          "data": {
            "text/plain": [
              "<Figure size 640x480 with 1 Axes>"
            ],
            "image/png": "[encoded data removed]"
          },
          "metadata": {}
        }
      ]
    },
    {
      "cell_type": "markdown",
      "source": [
        "###Support Vector Machine"
      ],
      "metadata": {
        "id": "reYhGjGH6yV7"
      }
    },
    {
      "cell_type": "code",
      "source": [
        "##se crea el modelo\n",
        "X_train_modelo5=X_train_base1\n",
        "X_test_modelo5=X_test_base1\n",
        "svm_model = SVC(C = 1.5, kernel = 'linear', class_weight = 'balanced', max_iter =-1, random_state=123)\n",
        "svm_model.fit(X_train_modelo5, y_train)"
      ],
      "metadata": {
        "colab": {
          "base_uri": "https://localhost:8080/",
          "height": 75
        },
        "id": "Jwq4NRs26x67",
        "outputId": "e9d7e5d3-d50b-4245-9886-46d6c7f5e607"
      },
      "execution_count": 87,
      "outputs": [
        {
          "output_type": "execute_result",
          "data": {
            "text/plain": [
              "SVC(C=1.5, class_weight='balanced', kernel='linear', random_state=123)"
            ],
            "text/html": [
              "<style>#sk-container-id-6 {color: black;background-color: white;}#sk-container-id-6 pre{padding: 0;}#sk-container-id-6 div.sk-toggleable {background-color: white;}#sk-container-id-6 label.sk-toggleable__label {cursor: pointer;display: block;width: 100%;margin-bottom: 0;padding: 0.3em;box-sizing: border-box;text-align: center;}#sk-container-id-6 label.sk-toggleable__label-arrow:before {content: \"▸\";float: left;margin-right: 0.25em;color: #696969;}#sk-container-id-6 label.sk-toggleable__label-arrow:hover:before {color: black;}#sk-container-id-6 div.sk-estimator:hover label.sk-toggleable__label-arrow:before {color: black;}#sk-container-id-6 div.sk-toggleable__content {max-height: 0;max-width: 0;overflow: hidden;text-align: left;background-color: #f0f8ff;}#sk-container-id-6 div.sk-toggleable__content pre {margin: 0.2em;color: black;border-radius: 0.25em;background-color: #f0f8ff;}#sk-container-id-6 input.sk-toggleable__control:checked~div.sk-toggleable__content {max-height: 200px;max-width: 100%;overflow: auto;}#sk-container-id-6 input.sk-toggleable__control:checked~label.sk-toggleable__label-arrow:before {content: \"▾\";}#sk-container-id-6 div.sk-estimator input.sk-toggleable__control:checked~label.sk-toggleable__label {background-color: #d4ebff;}#sk-container-id-6 div.sk-label input.sk-toggleable__control:checked~label.sk-toggleable__label {background-color: #d4ebff;}#sk-container-id-6 input.sk-hidden--visually {border: 0;clip: rect(1px 1px 1px 1px);clip: rect(1px, 1px, 1px, 1px);height: 1px;margin: -1px;overflow: hidden;padding: 0;position: absolute;width: 1px;}#sk-container-id-6 div.sk-estimator {font-family: monospace;background-color: #f0f8ff;border: 1px dotted black;border-radius: 0.25em;box-sizing: border-box;margin-bottom: 0.5em;}#sk-container-id-6 div.sk-estimator:hover {background-color: #d4ebff;}#sk-container-id-6 div.sk-parallel-item::after {content: \"\";width: 100%;border-bottom: 1px solid gray;flex-grow: 1;}#sk-container-id-6 div.sk-label:hover label.sk-toggleable__label {background-color: #d4ebff;}#sk-container-id-6 div.sk-serial::before {content: \"\";position: absolute;border-left: 1px solid gray;box-sizing: border-box;top: 0;bottom: 0;left: 50%;z-index: 0;}#sk-container-id-6 div.sk-serial {display: flex;flex-direction: column;align-items: center;background-color: white;padding-right: 0.2em;padding-left: 0.2em;position: relative;}#sk-container-id-6 div.sk-item {position: relative;z-index: 1;}#sk-container-id-6 div.sk-parallel {display: flex;align-items: stretch;justify-content: center;background-color: white;position: relative;}#sk-container-id-6 div.sk-item::before, #sk-container-id-6 div.sk-parallel-item::before {content: \"\";position: absolute;border-left: 1px solid gray;box-sizing: border-box;top: 0;bottom: 0;left: 50%;z-index: -1;}#sk-container-id-6 div.sk-parallel-item {display: flex;flex-direction: column;z-index: 1;position: relative;background-color: white;}#sk-container-id-6 div.sk-parallel-item:first-child::after {align-self: flex-end;width: 50%;}#sk-container-id-6 div.sk-parallel-item:last-child::after {align-self: flex-start;width: 50%;}#sk-container-id-6 div.sk-parallel-item:only-child::after {width: 0;}#sk-container-id-6 div.sk-dashed-wrapped {border: 1px dashed gray;margin: 0 0.4em 0.5em 0.4em;box-sizing: border-box;padding-bottom: 0.4em;background-color: white;}#sk-container-id-6 div.sk-label label {font-family: monospace;font-weight: bold;display: inline-block;line-height: 1.2em;}#sk-container-id-6 div.sk-label-container {text-align: center;}#sk-container-id-6 div.sk-container {/* jupyter's `normalize.less` sets `[hidden] { display: none; }` but bootstrap.min.css set `[hidden] { display: none !important; }` so we also need the `!important` here to be able to override the default hidden behavior on the sphinx rendered scikit-learn.org. See: https://github.com/scikit-learn/scikit-learn/issues/21755 */display: inline-block !important;position: relative;}#sk-container-id-6 div.sk-text-repr-fallback {display: none;}</style><div id=\"sk-container-id-6\" class=\"sk-top-container\"><div class=\"sk-text-repr-fallback\"><pre>SVC(C=1.5, class_weight=&#x27;balanced&#x27;, kernel=&#x27;linear&#x27;, random_state=123)</pre><b>In a Jupyter environment, please rerun this cell to show the HTML representation or trust the notebook. <br />On GitHub, the HTML representation is unable to render, please try loading this page with nbviewer.org.</b></div><div class=\"sk-container\" hidden><div class=\"sk-item\"><div class=\"sk-estimator sk-toggleable\"><input class=\"sk-toggleable__control sk-hidden--visually\" id=\"sk-estimator-id-6\" type=\"checkbox\" checked><label for=\"sk-estimator-id-6\" class=\"sk-toggleable__label sk-toggleable__label-arrow\">SVC</label><div class=\"sk-toggleable__content\"><pre>SVC(C=1.5, class_weight=&#x27;balanced&#x27;, kernel=&#x27;linear&#x27;, random_state=123)</pre></div></div></div></div></div>"
            ]
          },
          "metadata": {},
          "execution_count": 87
        }
      ]
    },
    {
      "cell_type": "code",
      "source": [
        "##metricas\n",
        "print (\"Train - Accuracy :\", metrics.accuracy_score(y_train, svm_model.predict(X_train_modelo5)))\n",
        "print (\"Train - classification report:\\n\", metrics.classification_report(y_train, svm_model.predict(X_train_modelo5)))\n",
        "print (\"Test - Accuracy :\", metrics.accuracy_score(y_test, svm_model.predict(X_test_modelo5)))\n",
        "print (\"Test - classification report :\", metrics.classification_report(y_test, svm_model.predict(X_test_modelo5)))"
      ],
      "metadata": {
        "colab": {
          "base_uri": "https://localhost:8080/"
        },
        "id": "BPTDcgRN7Idt",
        "outputId": "51edb1e7-bc18-4766-fcbc-4309ef1087d2"
      },
      "execution_count": 88,
      "outputs": [
        {
          "output_type": "stream",
          "name": "stdout",
          "text": [
            "Train - Accuracy : 0.9851473922902494\n",
            "Train - classification report:\n",
            "               precision    recall  f1-score   support\n",
            "\n",
            "           0       0.98      1.00      0.99     14794\n",
            "           1       1.00      0.91      0.95      2846\n",
            "\n",
            "    accuracy                           0.99     17640\n",
            "   macro avg       0.99      0.95      0.97     17640\n",
            "weighted avg       0.99      0.99      0.98     17640\n",
            "\n",
            "Test - Accuracy : 0.9831065759637189\n",
            "Test - classification report :               precision    recall  f1-score   support\n",
            "\n",
            "           0       0.98      1.00      0.99     14798\n",
            "           1       1.00      0.90      0.94      2842\n",
            "\n",
            "    accuracy                           0.98     17640\n",
            "   macro avg       0.99      0.95      0.97     17640\n",
            "weighted avg       0.98      0.98      0.98     17640\n",
            "\n"
          ]
        }
      ]
    },
    {
      "cell_type": "code",
      "source": [
        "###matriz de confusión\n",
        "cm1= confusion_matrix(y_test, svm_model.predict(X_test_modelo5))\n",
        "cm1_display = ConfusionMatrixDisplay(confusion_matrix = cm1,  display_labels=['No renuncia', 'renuncia'])\n",
        "cm1_display.plot()\n",
        "plt.show()"
      ],
      "metadata": {
        "colab": {
          "base_uri": "https://localhost:8080/",
          "height": 449
        },
        "id": "5NqD4MXR7OKh",
        "outputId": "74676004-9061-476c-aed1-88f3317e8872"
      },
      "execution_count": 89,
      "outputs": [
        {
          "output_type": "display_data",
          "data": {
            "text/plain": [
              "<Figure size 640x480 with 2 Axes>"
            ],
            "image/png": "[encoded data removed]"
          },
          "metadata": {}
        }
      ]
    }
  ]
}